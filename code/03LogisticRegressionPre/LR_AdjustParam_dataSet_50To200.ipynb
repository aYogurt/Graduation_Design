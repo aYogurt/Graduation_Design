{
 "cells": [
  {
   "cell_type": "code",
   "execution_count": null,
   "metadata": {},
   "outputs": [],
   "source": []
  },
  {
   "cell_type": "code",
   "execution_count": 1,
   "metadata": {},
   "outputs": [],
   "source": [
    "from sklearn.feature_extraction.text import TfidfTransformer  # TF-IDF向量转换类\n",
    "from sklearn.feature_extraction.text import CountVectorizer  # 词频矩阵\n",
    "from sklearn.feature_extraction.text import TfidfVectorizer\n",
    "\n",
    "from sklearn.multiclass import OneVsRestClassifier  # 结合SVM的多分类组合辅助器\n",
    "import sklearn.svm as svm  # SVM辅助器\n",
    "from sklearn.linear_model import LogisticRegression\n",
    "\n",
    "from sklearn.metrics import classification_report\n",
    "from sklearn import metrics\n",
    "from sklearn.model_selection import cross_val_score, cross_validate\n",
    "\n",
    "from os import listdir\n",
    "import os\n",
    "import jieba\n",
    "\n",
    "from time import time\n",
    "import datetime"
   ]
  },
  {
   "cell_type": "code",
   "execution_count": 2,
   "metadata": {},
   "outputs": [],
   "source": [
    "def getStopWord(inputPath):\n",
    "    with open(inputPath, \"r\", encoding='utf-8') as file:\n",
    "        content = file.read()\n",
    "        file.close()\n",
    "    stopWordList = content.splitlines()\n",
    "    return stopWordList\n",
    "\n",
    "stopwords_filePath = \"B:\\\\code_master\\\\code\\\\03DataSet\\\\停用词01.txt\"\n",
    "stopWordList = getStopWord(stopwords_filePath)"
   ]
  },
  {
   "cell_type": "code",
   "execution_count": 3,
   "metadata": {},
   "outputs": [
    {
     "name": "stderr",
     "output_type": "stream",
     "text": [
      "Building prefix dict from the default dictionary ...\n",
      "Loading model from cache C:\\Users\\bigdata\\AppData\\Local\\Temp\\jieba.cache\n",
      "Loading model cost 0.727 seconds.\n",
      "Prefix dict has been built successfully.\n"
     ]
    }
   ],
   "source": [
    "# getDataLabelList() : 取数据、标签列表\n",
    "def getDataLabelList(inputPath):\n",
    "    dataList = []\n",
    "    labelList = []\n",
    "    fatherLists = listdir(inputPath) # 目录 ['xx罪.txt','xx罪.txt',...]\n",
    "    for eachDir in fatherLists:  # 遍历目录中各个文件\n",
    "        eachPath = inputPath +\"\\\\\"+ eachDir  # 保存目录中每个文件路径，便于遍历二级文件  G:\\\\dataSetTest\\\\xx罪.txt\n",
    "        with open(eachPath, 'r', encoding=\"utf-8\") as f:\n",
    "            content = f.readlines()\n",
    "            for i in range(len(content)):\n",
    "                labelList.append(eachDir.replace('.txt',''))\n",
    "                dataList.append(\" \".join(jieba.cut(content[i].strip())))\n",
    "            f.close()\n",
    "    return dataList, labelList\n",
    "\n",
    "\n",
    "\n",
    "# 训练集的特征、标签列表\n",
    "fileTrainPath = \"B:\\\\code_master\\\\code\\\\03DataSet\\\\dataTrainSet_50To200\"\n",
    "dataTrain_list, labelTrain_list = getDataLabelList(fileTrainPath)\n",
    "# 测试集的特征、标签列表\n",
    "fileTestPath = \"B:\\\\code_master\\\\code\\\\03DataSet\\\\dataTestSet_50To200\"\n",
    "dataTest_list, labelTest_list = getDataLabelList(fileTestPath)"
   ]
  },
  {
   "cell_type": "code",
   "execution_count": 5,
   "metadata": {},
   "outputs": [
    {
     "name": "stdout",
     "output_type": "stream",
     "text": [
      "(tfidfTrain.toarray()).shape : \n",
      "(16556, 5000)\n",
      "(tfidfTest.toarray()).shape : \n",
      "(6927, 5000)\n",
      "multi_class: multinomial\n",
      "对训练集进行模型评估, Start running time: 2022-04-18 22:10:37.794833\n",
      "accuracy_score : 0.9313843923653057\n",
      "\n",
      "对测试集集进行模型评估, Start running time: 2022-04-18 22:10:37.846692\n",
      "accuracy_score : 0.8084307781146239\n",
      "\n",
      "multi_class: ovr\n",
      "对训练集进行模型评估, Start running time: 2022-04-18 22:11:00.377624\n",
      "accuracy_score : 0.9238946605460256\n",
      "\n",
      "对测试集集进行模型评估, Start running time: 2022-04-18 22:11:00.442450\n",
      "accuracy_score : 0.8074202396419806\n",
      "\n"
     ]
    }
   ],
   "source": [
    "# getPreResult() : 输入案例并返回预测结果\n",
    "vectorizer = CountVectorizer(stop_words=stopWordList\n",
    "                             # , min_df=0.02\n",
    "                             # , max_df=0.5\n",
    "                             , max_features= 5000\n",
    "                             )  # 完善min_df的取值 ，学习曲线？？？\n",
    "# 其他类别专用分类，该类会将文本中的词语转换为词频矩阵，矩阵元素a[i][j] 表示j词在i类文本下的词频\n",
    "transformer = TfidfTransformer()  # 该类会统计每个词语的tf-idf权值\n",
    "#对训练集向量化\n",
    "cipinTrain = vectorizer.fit_transform(dataTrain_list)\n",
    "tfidfTrain = transformer.fit_transform(cipinTrain)  # if-idf中的输入为已经处理过的词频矩阵\n",
    "print(\"(tfidfTrain.toarray()).shape : \")\n",
    "print((tfidfTrain.toarray()).shape)\n",
    "#对测试集向量化\n",
    "cipinTest = vectorizer.transform(dataTest_list)\n",
    "tfidfTest = transformer.transform(cipinTest)\n",
    "print(\"(tfidfTest.toarray()).shape : \")\n",
    "print((tfidfTest.toarray()).shape)\n",
    "\n",
    "# solver_list = ['newton-cg','lbfgs','sag','saga']\n",
    "# for i in range(len(solver_list)):\n",
    "for multi_class in ('multinomial','ovr'):\n",
    "    # print(\"调参solver: \",solver_list[i])\n",
    "    print(\"multi_class:\",multi_class)\n",
    "    #用训练集训练模型\n",
    "    # model = OneVsRestClassifier(svm.SVC(kernel='linear')) #实例化模型\n",
    "    LR_model = LogisticRegression(\n",
    "                                   # multi_class=\"multinomial\"\n",
    "                                  multi_class=multi_class\n",
    "                                  # , solver=solver_list[i]\n",
    "                                  # , random_state=2\n",
    "                                  )\n",
    "    LR_model = LR_model.fit(tfidfTrain, labelTrain_list)\n",
    "\n",
    "    ytrain_pred = LR_model.predict(tfidfTrain)\n",
    "    print(\"对训练集进行模型评估, Start running time: %s\" % datetime.datetime.now())\n",
    "    print(\"accuracy_score :\", metrics.accuracy_score(labelTrain_list, ytrain_pred))\n",
    "    print(\"\")\n",
    "\n",
    "\n",
    "    ytest_pred = LR_model.predict(tfidfTest)\n",
    "    print(\"对测试集集进行模型评估, Start running time: %s\" % datetime.datetime.now())\n",
    "    print(\"accuracy_score :\" , metrics.accuracy_score(labelTest_list, ytest_pred))\n",
    "    print(\"\")"
   ]
  },
  {
   "cell_type": "code",
   "execution_count": 14,
   "metadata": {},
   "outputs": [
    {
     "name": "stderr",
     "output_type": "stream",
     "text": [
      "C:\\Users\\bigdata\\AppData\\Roaming\\Python\\Python37\\site-packages\\sklearn\\linear_model\\_sag.py:354: ConvergenceWarning: The max_iter was reached which means the coef_ did not converge\n",
      "  ConvergenceWarning,\n",
      "C:\\Users\\bigdata\\AppData\\Roaming\\Python\\Python37\\site-packages\\sklearn\\linear_model\\_sag.py:354: ConvergenceWarning: The max_iter was reached which means the coef_ did not converge\n",
      "  ConvergenceWarning,\n",
      "C:\\Users\\bigdata\\AppData\\Roaming\\Python\\Python37\\site-packages\\sklearn\\linear_model\\_sag.py:354: ConvergenceWarning: The max_iter was reached which means the coef_ did not converge\n",
      "  ConvergenceWarning,\n"
     ]
    },
    {
     "name": "stdout",
     "output_type": "stream",
     "text": [
      "[0.8846339695578642, 0.931505194491423, 0.9315655955544817, 0.9315655955544817, 0.9315655955544817, 0.9315655955544817, 0.9315655955544817, 0.931505194491423, 0.931505194491423, 0.9314447934283644, 0.9315655955544817, 0.9315655955544817, 0.9315655955544817, 0.931505194491423, 0.931505194491423, 0.931505194491423, 0.931505194491423, 0.9315655955544817, 0.9314447934283644, 0.9315655955544817]\n",
      "[0.7672874260141476, 0.808575140753573, 0.808575140753573, 0.8084307781146239, 0.808575140753573, 0.808575140753573, 0.808575140753573, 0.808719503392522, 0.8084307781146239, 0.808575140753573, 0.808575140753573, 0.808575140753573, 0.8082864154756749, 0.808719503392522, 0.808575140753573, 0.8084307781146239, 0.808719503392522, 0.808575140753573, 0.808719503392522, 0.808719503392522]\n"
     ]
    }
   ],
   "source": [
    "import numpy as np\n",
    "import matplotlib.pyplot as plt\n",
    "\n",
    "lr = []\n",
    "lrtest = []\n",
    "\n",
    "for i in np.arange(1,201,10):\n",
    "    LR_model = LogisticRegression(\n",
    "        multi_class=\"multinomial\"\n",
    "        , solver = 'saga'\n",
    "        , max_iter=i \n",
    "    )\n",
    "    LR_model = LR_model.fit(tfidfTrain, labelTrain_list)\n",
    "    ytrain_pred = LR_model.predict(tfidfTrain)\n",
    "    ytest_pred = LR_model.predict(tfidfTest)\n",
    "    \n",
    "    lr.append(metrics.accuracy_score(labelTrain_list, ytrain_pred))\n",
    "    lrtest.append(metrics.accuracy_score(labelTest_list, ytest_pred))\n",
    "print(lr)\n",
    "print(lrtest)\n",
    "    \n",
    "#     graph = [lr,lrtest]\n",
    "#     color = [\"black\",\"gray\"]\n",
    "#     label = [\"Lr\",\"Lrtest\"]\n",
    "#     plt.figure(figsize=(20,5))\n",
    "#     for i in range(len(graph)):\n",
    "# #         plt.plot(np.arange(1,201,10),lr,'black',label='lr')\n",
    "#         plt.plot(np.arange(1,201,10),graph[i],color[i],label=label[i])\n",
    "#     plt.legend(loc=4)\n",
    "#     plt.xticks(np.arange(1,201,10))\n",
    "#     plt.show()"
   ]
  },
  {
   "cell_type": "code",
   "execution_count": 15,
   "metadata": {},
   "outputs": [
    {
     "data": {
      "image/png": "[encoded data removed]",
      "text/plain": [
       "<Figure size 1440x360 with 1 Axes>"
      ]
     },
     "metadata": {
      "needs_background": "light"
     },
     "output_type": "display_data"
    }
   ],
   "source": [
    "graph = [lr,lrtest]\n",
    "color = [\"black\",\"gray\"]\n",
    "label = [\"Lr\",\"Lrtest\"]\n",
    "plt.figure(figsize=(20,5))\n",
    "for i in range(len(graph)):\n",
    "#         plt.plot(np.arange(1,201,10),lr,'black',label='lr')\n",
    "    plt.plot(np.arange(1,201,10),graph[i],color[i],label=label[i])\n",
    "plt.legend(loc=4)\n",
    "plt.xticks(np.arange(1,201,10))\n",
    "plt.show()"
   ]
  },
  {
   "cell_type": "code",
   "execution_count": 18,
   "metadata": {},
   "outputs": [
    {
     "name": "stdout",
     "output_type": "stream",
     "text": [
      "调参solver:  newton-cg\n"
     ]
    },
    {
     "name": "stderr",
     "output_type": "stream",
     "text": [
      "C:\\Users\\bigdata\\AppData\\Roaming\\Python\\Python37\\site-packages\\sklearn\\utils\\optimize.py:212: ConvergenceWarning: newton-cg failed to converge. Increase the number of iterations.\n",
      "  ConvergenceWarning,\n"
     ]
    },
    {
     "name": "stdout",
     "output_type": "stream",
     "text": [
      "对训练集进行模型评估, Start running time: 2022-04-18 23:14:10.225704\n",
      "accuracy_score : 0.9313843923653057\n",
      "\n",
      "对测试集集进行模型评估, Start running time: 2022-04-18 23:14:10.300504\n",
      "accuracy_score : 0.8082864154756749\n",
      "\n",
      "调参solver:  lbfgs\n"
     ]
    },
    {
     "name": "stderr",
     "output_type": "stream",
     "text": [
      "C:\\Users\\bigdata\\AppData\\Roaming\\Python\\Python37\\site-packages\\sklearn\\linear_model\\_logistic.py:818: ConvergenceWarning: lbfgs failed to converge (status=1):\n",
      "STOP: TOTAL NO. of ITERATIONS REACHED LIMIT.\n",
      "\n",
      "Increase the number of iterations (max_iter) or scale the data as shown in:\n",
      "    https://scikit-learn.org/stable/modules/preprocessing.html\n",
      "Please also refer to the documentation for alternative solver options:\n",
      "    https://scikit-learn.org/stable/modules/linear_model.html#logistic-regression\n",
      "  extra_warning_msg=_LOGISTIC_SOLVER_CONVERGENCE_MSG,\n"
     ]
    },
    {
     "name": "stdout",
     "output_type": "stream",
     "text": [
      "对训练集进行模型评估, Start running time: 2022-04-18 23:14:17.042528\n",
      "accuracy_score : 0.8811911089635177\n",
      "\n",
      "对测试集集进行模型评估, Start running time: 2022-04-18 23:14:17.100374\n",
      "accuracy_score : 0.7763822722679371\n",
      "\n",
      "调参solver:  sag\n"
     ]
    },
    {
     "name": "stderr",
     "output_type": "stream",
     "text": [
      "C:\\Users\\bigdata\\AppData\\Roaming\\Python\\Python37\\site-packages\\sklearn\\linear_model\\_sag.py:354: ConvergenceWarning: The max_iter was reached which means the coef_ did not converge\n",
      "  ConvergenceWarning,\n"
     ]
    },
    {
     "name": "stdout",
     "output_type": "stream",
     "text": [
      "对训练集进行模型评估, Start running time: 2022-04-18 23:14:23.336749\n",
      "accuracy_score : 0.931505194491423\n",
      "\n",
      "对测试集集进行模型评估, Start running time: 2022-04-18 23:14:23.381627\n",
      "accuracy_score : 0.8077089649198788\n",
      "\n",
      "调参solver:  saga\n",
      "对训练集进行模型评估, Start running time: 2022-04-18 23:14:32.288880\n",
      "accuracy_score : 0.9313843923653057\n",
      "\n",
      "对测试集集进行模型评估, Start running time: 2022-04-18 23:14:32.334757\n",
      "accuracy_score : 0.808575140753573\n",
      "\n"
     ]
    },
    {
     "name": "stderr",
     "output_type": "stream",
     "text": [
      "C:\\Users\\bigdata\\AppData\\Roaming\\Python\\Python37\\site-packages\\sklearn\\linear_model\\_sag.py:354: ConvergenceWarning: The max_iter was reached which means the coef_ did not converge\n",
      "  ConvergenceWarning,\n"
     ]
    }
   ],
   "source": [
    "solver_list = ['newton-cg', 'lbfgs', 'sag', 'saga']\n",
    "for i in range(len(solver_list)):\n",
    "    print(\"调参solver: \", solver_list[i])\n",
    "    #用训练集训练模型\n",
    "    # model = OneVsRestClassifier(svm.SVC(kernel='linear')) #实例化模型\n",
    "    LR_model = LogisticRegression(\n",
    "        multi_class=\"multinomial\"\n",
    "        # multi_class=multi_class\n",
    "        , solver= solver_list[i]\n",
    "        , max_iter=11\n",
    "        # , random_state=2\n",
    "\n",
    "                                  )\n",
    "    LR_model = LR_model.fit(tfidfTrain, labelTrain_list)\n",
    "\n",
    "    ytrain_pred = LR_model.predict(tfidfTrain)\n",
    "    print(\"对训练集进行模型评估, Start running time: %s\" % datetime.datetime.now())\n",
    "    print(\"accuracy_score :\", metrics.accuracy_score(labelTrain_list, ytrain_pred))\n",
    "    print(\"\")\n",
    "\n",
    "\n",
    "    ytest_pred = LR_model.predict(tfidfTest)\n",
    "    print(\"对测试集集进行模型评估, Start running time: %s\" % datetime.datetime.now())\n",
    "    print(\"accuracy_score :\" , metrics.accuracy_score(labelTest_list, ytest_pred))\n",
    "    print(\"\")\n"
   ]
  },
  {
   "cell_type": "code",
   "execution_count": 19,
   "metadata": {},
   "outputs": [
    {
     "name": "stdout",
     "output_type": "stream",
     "text": [
      "调参solver:  newton-cg\n",
      "对训练集进行模型评估, Start running time: 2022-04-18 23:18:06.832840\n",
      "accuracy_score : 0.9313843923653057\n",
      "\n",
      "对测试集集进行模型评估, Start running time: 2022-04-18 23:18:06.908637\n",
      "accuracy_score : 0.8084307781146239\n",
      "\n",
      "调参solver:  lbfgs\n"
     ]
    },
    {
     "name": "stderr",
     "output_type": "stream",
     "text": [
      "C:\\Users\\bigdata\\AppData\\Roaming\\Python\\Python37\\site-packages\\sklearn\\linear_model\\_logistic.py:818: ConvergenceWarning: lbfgs failed to converge (status=1):\n",
      "STOP: TOTAL NO. of ITERATIONS REACHED LIMIT.\n",
      "\n",
      "Increase the number of iterations (max_iter) or scale the data as shown in:\n",
      "    https://scikit-learn.org/stable/modules/preprocessing.html\n",
      "Please also refer to the documentation for alternative solver options:\n",
      "    https://scikit-learn.org/stable/modules/linear_model.html#logistic-regression\n",
      "  extra_warning_msg=_LOGISTIC_SOLVER_CONVERGENCE_MSG,\n"
     ]
    },
    {
     "name": "stdout",
     "output_type": "stream",
     "text": [
      "对训练集进行模型评估, Start running time: 2022-04-18 23:18:18.125730\n",
      "accuracy_score : 0.9208746073930901\n",
      "\n",
      "对测试集集进行模型评估, Start running time: 2022-04-18 23:18:18.183577\n",
      "accuracy_score : 0.8038111736682546\n",
      "\n",
      "调参solver:  sag\n"
     ]
    },
    {
     "name": "stderr",
     "output_type": "stream",
     "text": [
      "C:\\Users\\bigdata\\AppData\\Roaming\\Python\\Python37\\site-packages\\sklearn\\linear_model\\_sag.py:354: ConvergenceWarning: The max_iter was reached which means the coef_ did not converge\n",
      "  ConvergenceWarning,\n"
     ]
    },
    {
     "name": "stdout",
     "output_type": "stream",
     "text": [
      "对训练集进行模型评估, Start running time: 2022-04-18 23:18:29.585179\n",
      "accuracy_score : 0.9313843923653057\n",
      "\n",
      "对测试集集进行模型评估, Start running time: 2022-04-18 23:18:29.630104\n",
      "accuracy_score : 0.8084307781146239\n",
      "\n",
      "调参solver:  saga\n",
      "对训练集进行模型评估, Start running time: 2022-04-18 23:18:45.083859\n",
      "accuracy_score : 0.931505194491423\n",
      "\n",
      "对测试集集进行模型评估, Start running time: 2022-04-18 23:18:45.133725\n",
      "accuracy_score : 0.808575140753573\n",
      "\n"
     ]
    }
   ],
   "source": [
    "solver_list = ['newton-cg', 'lbfgs', 'sag', 'saga']\n",
    "for i in range(len(solver_list)):\n",
    "    print(\"调参solver: \", solver_list[i])\n",
    "    #用训练集训练模型\n",
    "    # model = OneVsRestClassifier(svm.SVC(kernel='linear')) #实例化模型\n",
    "    LR_model = LogisticRegression(\n",
    "        multi_class=\"multinomial\"\n",
    "        # multi_class=multi_class\n",
    "        , solver= solver_list[i]\n",
    "        , max_iter=20\n",
    "        # , random_state=2\n",
    "\n",
    "                                  )\n",
    "    LR_model = LR_model.fit(tfidfTrain, labelTrain_list)\n",
    "\n",
    "    ytrain_pred = LR_model.predict(tfidfTrain)\n",
    "    print(\"对训练集进行模型评估, Start running time: %s\" % datetime.datetime.now())\n",
    "    print(\"accuracy_score :\", metrics.accuracy_score(labelTrain_list, ytrain_pred))\n",
    "    print(\"\")\n",
    "\n",
    "\n",
    "    ytest_pred = LR_model.predict(tfidfTest)\n",
    "    print(\"对测试集集进行模型评估, Start running time: %s\" % datetime.datetime.now())\n",
    "    print(\"accuracy_score :\" , metrics.accuracy_score(labelTest_list, ytest_pred))\n",
    "    print(\"\")"
   ]
  },
  {
   "cell_type": "code",
   "execution_count": 20,
   "metadata": {},
   "outputs": [
    {
     "name": "stdout",
     "output_type": "stream",
     "text": [
      "对训练集进行模型评估, Start running time: 2022-04-18 23:21:18.937058\n",
      "accuracy_score : 0.8765402271079971\n",
      "\n",
      "对测试集集进行模型评估, Start running time: 2022-04-18 23:21:18.986924\n",
      "accuracy_score : 0.8088638660314711\n",
      "\n"
     ]
    },
    {
     "name": "stderr",
     "output_type": "stream",
     "text": [
      "C:\\Users\\bigdata\\AppData\\Roaming\\Python\\Python37\\site-packages\\sklearn\\linear_model\\_sag.py:354: ConvergenceWarning: The max_iter was reached which means the coef_ did not converge\n",
      "  ConvergenceWarning,\n"
     ]
    }
   ],
   "source": [
    "LR_model = LogisticRegression(\n",
    "    penalty=\"l1\"\n",
    "#     , C = 0.5\n",
    "    ,multi_class=\"multinomial\"\n",
    "    # multi_class=multi_class\n",
    "    , solver= 'saga'\n",
    "    , max_iter=20\n",
    "    # , random_state=2\n",
    "\n",
    "                              )\n",
    "LR_model = LR_model.fit(tfidfTrain, labelTrain_list)\n",
    "\n",
    "ytrain_pred = LR_model.predict(tfidfTrain)\n",
    "print(\"对训练集进行模型评估, Start running time: %s\" % datetime.datetime.now())\n",
    "print(\"accuracy_score :\", metrics.accuracy_score(labelTrain_list, ytrain_pred))\n",
    "print(\"\")\n",
    "\n",
    "\n",
    "ytest_pred = LR_model.predict(tfidfTest)\n",
    "print(\"对测试集集进行模型评估, Start running time: %s\" % datetime.datetime.now())\n",
    "print(\"accuracy_score :\" , metrics.accuracy_score(labelTest_list, ytest_pred))\n",
    "print(\"\")"
   ]
  },
  {
   "cell_type": "code",
   "execution_count": 23,
   "metadata": {},
   "outputs": [
    {
     "name": "stdout",
     "output_type": "stream",
     "text": [
      "对训练集进行模型评估, Start running time: 2022-04-18 23:22:47.341134\n",
      "accuracy_score : 0.9314447934283644\n",
      "\n",
      "对测试集集进行模型评估, Start running time: 2022-04-18 23:22:47.386013\n",
      "accuracy_score : 0.808575140753573\n",
      "\n"
     ]
    },
    {
     "name": "stderr",
     "output_type": "stream",
     "text": [
      "C:\\Users\\bigdata\\AppData\\Roaming\\Python\\Python37\\site-packages\\sklearn\\linear_model\\_sag.py:354: ConvergenceWarning: The max_iter was reached which means the coef_ did not converge\n",
      "  ConvergenceWarning,\n"
     ]
    }
   ],
   "source": [
    "LR_model = LogisticRegression(\n",
    "#     penalty=\"l1\"\n",
    "#     , C = 0.5\n",
    "    multi_class=\"multinomial\"\n",
    "    # multi_class=multi_class\n",
    "    , solver= 'saga'\n",
    "    , max_iter=20\n",
    "    , random_state=2\n",
    "     )\n",
    "LR_model = LR_model.fit(tfidfTrain, labelTrain_list)\n",
    "\n",
    "ytrain_pred = LR_model.predict(tfidfTrain)\n",
    "print(\"对训练集进行模型评估, Start running time: %s\" % datetime.datetime.now())\n",
    "print(\"accuracy_score :\", metrics.accuracy_score(labelTrain_list, ytrain_pred))\n",
    "print(\"\")\n",
    "\n",
    "\n",
    "ytest_pred = LR_model.predict(tfidfTest)\n",
    "print(\"对测试集集进行模型评估, Start running time: %s\" % datetime.datetime.now())\n",
    "print(\"accuracy_score :\" , metrics.accuracy_score(labelTest_list, ytest_pred))\n",
    "print(\"\")"
   ]
  },
  {
   "cell_type": "code",
   "execution_count": 24,
   "metadata": {},
   "outputs": [
    {
     "name": "stdout",
     "output_type": "stream",
     "text": [
      "对训练集进行模型评估, Start running time: 2022-04-18 23:24:01.553425\n",
      "accuracy_score : 0.9314447934283644\n",
      "\n",
      "对测试集集进行模型评估, Start running time: 2022-04-18 23:24:01.598306\n",
      "accuracy_score : 0.808575140753573\n",
      "\n"
     ]
    },
    {
     "name": "stderr",
     "output_type": "stream",
     "text": [
      "C:\\Users\\bigdata\\AppData\\Roaming\\Python\\Python37\\site-packages\\sklearn\\linear_model\\_sag.py:354: ConvergenceWarning: The max_iter was reached which means the coef_ did not converge\n",
      "  ConvergenceWarning,\n"
     ]
    }
   ],
   "source": [
    "LR_model = LogisticRegression(\n",
    "#     penalty=\"l1\"\n",
    "#     , C = 0.5\n",
    "    multi_class=\"multinomial\"\n",
    "    # multi_class=multi_class\n",
    "    , solver= 'saga'\n",
    "    , max_iter=20\n",
    "    , random_state=10\n",
    "     )\n",
    "LR_model = LR_model.fit(tfidfTrain, labelTrain_list)\n",
    "\n",
    "ytrain_pred = LR_model.predict(tfidfTrain)\n",
    "print(\"对训练集进行模型评估, Start running time: %s\" % datetime.datetime.now())\n",
    "print(\"accuracy_score :\", metrics.accuracy_score(labelTrain_list, ytrain_pred))\n",
    "print(\"\")\n",
    "\n",
    "\n",
    "ytest_pred = LR_model.predict(tfidfTest)\n",
    "print(\"对测试集集进行模型评估, Start running time: %s\" % datetime.datetime.now())\n",
    "print(\"accuracy_score :\" , metrics.accuracy_score(labelTest_list, ytest_pred))\n",
    "print(\"\")"
   ]
  },
  {
   "cell_type": "code",
   "execution_count": 25,
   "metadata": {},
   "outputs": [
    {
     "name": "stderr",
     "output_type": "stream",
     "text": [
      "C:\\Users\\bigdata\\AppData\\Roaming\\Python\\Python37\\site-packages\\sklearn\\linear_model\\_sag.py:354: ConvergenceWarning: The max_iter was reached which means the coef_ did not converge\n",
      "  ConvergenceWarning,\n",
      "C:\\Users\\bigdata\\AppData\\Roaming\\Python\\Python37\\site-packages\\sklearn\\linear_model\\_sag.py:354: ConvergenceWarning: The max_iter was reached which means the coef_ did not converge\n",
      "  ConvergenceWarning,\n",
      "C:\\Users\\bigdata\\AppData\\Roaming\\Python\\Python37\\site-packages\\sklearn\\linear_model\\_sag.py:354: ConvergenceWarning: The max_iter was reached which means the coef_ did not converge\n",
      "  ConvergenceWarning,\n",
      "C:\\Users\\bigdata\\AppData\\Roaming\\Python\\Python37\\site-packages\\sklearn\\linear_model\\_sag.py:354: ConvergenceWarning: The max_iter was reached which means the coef_ did not converge\n",
      "  ConvergenceWarning,\n",
      "C:\\Users\\bigdata\\AppData\\Roaming\\Python\\Python37\\site-packages\\sklearn\\linear_model\\_sag.py:354: ConvergenceWarning: The max_iter was reached which means the coef_ did not converge\n",
      "  ConvergenceWarning,\n",
      "C:\\Users\\bigdata\\AppData\\Roaming\\Python\\Python37\\site-packages\\sklearn\\linear_model\\_sag.py:354: ConvergenceWarning: The max_iter was reached which means the coef_ did not converge\n",
      "  ConvergenceWarning,\n",
      "C:\\Users\\bigdata\\AppData\\Roaming\\Python\\Python37\\site-packages\\sklearn\\linear_model\\_sag.py:354: ConvergenceWarning: The max_iter was reached which means the coef_ did not converge\n",
      "  ConvergenceWarning,\n",
      "C:\\Users\\bigdata\\AppData\\Roaming\\Python\\Python37\\site-packages\\sklearn\\linear_model\\_sag.py:354: ConvergenceWarning: The max_iter was reached which means the coef_ did not converge\n",
      "  ConvergenceWarning,\n",
      "C:\\Users\\bigdata\\AppData\\Roaming\\Python\\Python37\\site-packages\\sklearn\\linear_model\\_sag.py:354: ConvergenceWarning: The max_iter was reached which means the coef_ did not converge\n",
      "  ConvergenceWarning,\n"
     ]
    },
    {
     "data": {
      "image/png": "[encoded data removed]",
      "text/plain": [
       "<Figure size 432x288 with 1 Axes>"
      ]
     },
     "metadata": {
      "needs_background": "light"
     },
     "output_type": "display_data"
    }
   ],
   "source": [
    "import matplotlib.pyplot as plt\n",
    "test = []\n",
    "for i in np.arange(1,101,10):\n",
    "    \n",
    "    LR_model = LogisticRegression(\n",
    "    #     penalty=\"l1\"\n",
    "    #     , C = 0.5\n",
    "        multi_class=\"multinomial\"\n",
    "        # multi_class=multi_class\n",
    "        , solver= 'saga'\n",
    "        , max_iter=20\n",
    "        , random_state=i\n",
    "     )\n",
    "    LR_model = LR_model.fit(tfidfTrain, labelTrain_list)\n",
    "    score = LR_model.score(tfidfTest, labelTest_list)\n",
    "    test.append(score)\n",
    "plt.plot(np.arange(1,101,10),test,color=\"red\",label=\"random_state\")\n",
    "plt.legend()\n",
    "plt.show()"
   ]
  },
  {
   "cell_type": "code",
   "execution_count": 26,
   "metadata": {},
   "outputs": [
    {
     "name": "stderr",
     "output_type": "stream",
     "text": [
      "C:\\Users\\bigdata\\AppData\\Roaming\\Python\\Python37\\site-packages\\sklearn\\linear_model\\_sag.py:354: ConvergenceWarning: The max_iter was reached which means the coef_ did not converge\n",
      "  ConvergenceWarning,\n",
      "C:\\Users\\bigdata\\AppData\\Roaming\\Python\\Python37\\site-packages\\sklearn\\linear_model\\_sag.py:354: ConvergenceWarning: The max_iter was reached which means the coef_ did not converge\n",
      "  ConvergenceWarning,\n",
      "C:\\Users\\bigdata\\AppData\\Roaming\\Python\\Python37\\site-packages\\sklearn\\linear_model\\_sag.py:354: ConvergenceWarning: The max_iter was reached which means the coef_ did not converge\n",
      "  ConvergenceWarning,\n",
      "C:\\Users\\bigdata\\AppData\\Roaming\\Python\\Python37\\site-packages\\sklearn\\linear_model\\_sag.py:354: ConvergenceWarning: The max_iter was reached which means the coef_ did not converge\n",
      "  ConvergenceWarning,\n",
      "C:\\Users\\bigdata\\AppData\\Roaming\\Python\\Python37\\site-packages\\sklearn\\linear_model\\_sag.py:354: ConvergenceWarning: The max_iter was reached which means the coef_ did not converge\n",
      "  ConvergenceWarning,\n",
      "C:\\Users\\bigdata\\AppData\\Roaming\\Python\\Python37\\site-packages\\sklearn\\linear_model\\_sag.py:354: ConvergenceWarning: The max_iter was reached which means the coef_ did not converge\n",
      "  ConvergenceWarning,\n",
      "C:\\Users\\bigdata\\AppData\\Roaming\\Python\\Python37\\site-packages\\sklearn\\linear_model\\_sag.py:354: ConvergenceWarning: The max_iter was reached which means the coef_ did not converge\n",
      "  ConvergenceWarning,\n",
      "C:\\Users\\bigdata\\AppData\\Roaming\\Python\\Python37\\site-packages\\sklearn\\linear_model\\_sag.py:354: ConvergenceWarning: The max_iter was reached which means the coef_ did not converge\n",
      "  ConvergenceWarning,\n"
     ]
    },
    {
     "name": "stdout",
     "output_type": "stream",
     "text": [
      "[0.931505194491423, 0.931505194491423, 0.931505194491423, 0.9313843923653057, 0.931505194491423, 0.9315655955544817, 0.931505194491423, 0.931505194491423, 0.931505194491423, 0.931505194491423]\n",
      "[0.8082864154756749, 0.808575140753573, 0.808719503392522, 0.808575140753573, 0.808575140753573, 0.808575140753573, 0.808575140753573, 0.808575140753573, 0.808719503392522, 0.808575140753573]\n"
     ]
    },
    {
     "name": "stderr",
     "output_type": "stream",
     "text": [
      "C:\\Users\\bigdata\\AppData\\Roaming\\Python\\Python37\\site-packages\\sklearn\\linear_model\\_sag.py:354: ConvergenceWarning: The max_iter was reached which means the coef_ did not converge\n",
      "  ConvergenceWarning,\n"
     ]
    }
   ],
   "source": [
    "import numpy as np\n",
    "import matplotlib.pyplot as plt\n",
    "\n",
    "LRTrain = []\n",
    "LRTest = []\n",
    "\n",
    "for i in np.arange(1,101,10):\n",
    "    LR_model = LogisticRegression(\n",
    "        multi_class=\"multinomial\"\n",
    "        , solver = 'saga'\n",
    "        , max_iter=20 \n",
    "        , random_state=i\n",
    "    )\n",
    "    LR_model = LR_model.fit(tfidfTrain, labelTrain_list)\n",
    "    ytrain_pred = LR_model.predict(tfidfTrain)\n",
    "    ytest_pred = LR_model.predict(tfidfTest)\n",
    "    \n",
    "    LRTrain.append(metrics.accuracy_score(labelTrain_list, ytrain_pred))\n",
    "    LRTest.append(metrics.accuracy_score(labelTest_list, ytest_pred))\n",
    "print(LRTrain)\n",
    "print(LRTest)"
   ]
  },
  {
   "cell_type": "code",
   "execution_count": 28,
   "metadata": {},
   "outputs": [
    {
     "data": {
      "image/png": "[encoded data removed]",
      "text/plain": [
       "<Figure size 1440x360 with 1 Axes>"
      ]
     },
     "metadata": {
      "needs_background": "light"
     },
     "output_type": "display_data"
    }
   ],
   "source": [
    "graph = [LRTrain,LRTest]\n",
    "color = [\"black\",\"gray\"]\n",
    "label = [\"LRTrain\",\"LRTest\"]\n",
    "plt.figure(figsize=(20,5))\n",
    "for i in range(len(graph)):\n",
    "#         plt.plot(np.arange(1,201,10),lr,'black',label='lr')\n",
    "    plt.plot(np.arange(1,101,10),graph[i],color[i],label=label[i])\n",
    "plt.legend(loc=4)\n",
    "plt.xticks(np.arange(1,101,10))\n",
    "plt.show()"
   ]
  },
  {
   "cell_type": "code",
   "execution_count": 29,
   "metadata": {},
   "outputs": [
    {
     "name": "stderr",
     "output_type": "stream",
     "text": [
      "C:\\Users\\bigdata\\AppData\\Roaming\\Python\\Python37\\site-packages\\sklearn\\linear_model\\_sag.py:354: ConvergenceWarning: The max_iter was reached which means the coef_ did not converge\n",
      "  ConvergenceWarning,\n"
     ]
    },
    {
     "name": "stdout",
     "output_type": "stream",
     "text": [
      "对训练集进行模型评估, Start running time: 2022-04-18 23:47:49.096883\n",
      "classification_report: \n",
      "                precision    recall  f1-score   support\n",
      "\n",
      "         串通投标罪       0.93      0.97      0.95       141\n",
      "         交通肇事罪       0.96      0.97      0.96       141\n",
      "         介绍贿赂罪       0.86      0.91      0.88       141\n",
      "         代替考试罪       0.91      0.96      0.93        50\n",
      "  以危险方法危害公共安全罪       0.86      0.85      0.86       141\n",
      "       传授犯罪方法罪       1.00      0.68      0.81        38\n",
      "         传播性病罪       0.98      0.94      0.96        50\n",
      "       传播淫秽物品罪       0.98      0.99      0.98       141\n",
      "           伪证罪       0.92      0.92      0.92       141\n",
      "         伪造货币罪       1.00      0.96      0.98        52\n",
      "           侮辱罪       1.00      0.90      0.95        63\n",
      "           侵占罪       0.90      0.78      0.84       141\n",
      "     侵犯公民个人信息罪       0.99      0.96      0.98       141\n",
      "        侵犯著作权罪       0.99      0.99      0.99       141\n",
      "         保险诈骗罪       0.96      0.99      0.97       141\n",
      "        信用卡诈骗罪       0.97      0.94      0.95       141\n",
      "       假冒注册商标罪       0.91      0.96      0.94       141\n",
      "      偷越国（边）境罪       0.99      0.96      0.97       141\n",
      "     冒充军人招摇撞骗罪       0.99      0.96      0.97       141\n",
      "          刑事其他       0.83      0.62      0.71       141\n",
      "      利用影响力受贿罪       0.96      0.51      0.67        49\n",
      "    动植物检疫徇私舞弊罪       0.99      0.97      0.98       119\n",
      "     包庇毒品犯罪分子罪       0.96      0.67      0.79        36\n",
      "       协助组织卖淫罪       0.88      0.90      0.89       141\n",
      "         单位受贿罪       0.90      0.88      0.89       141\n",
      "         单位行贿罪       0.83      0.94      0.88       141\n",
      "       危险物品肇事罪       1.00      0.75      0.86        69\n",
      "         危险驾驶罪       0.99      0.99      0.99       141\n",
      "           受贿罪       0.85      0.91      0.88       141\n",
      "         合同诈骗罪       0.91      0.95      0.93       141\n",
      "           失火罪       0.97      0.98      0.97       141\n",
      "         妨害作证罪       0.93      0.88      0.90       141\n",
      "      妨害信用卡管理罪       0.97      0.99      0.98       141\n",
      "         妨害公务罪       0.99      0.98      0.98       141\n",
      "       容留他人吸毒罪       0.93      0.96      0.95       141\n",
      "        对单位行贿罪       0.91      0.74      0.82       113\n",
      "   对非国家工作人员行贿罪       0.94      0.85      0.90       141\n",
      "         寻衅滋事罪       0.96      0.94      0.95       141\n",
      "     巨额财产来源不明罪       0.99      0.87      0.92        82\n",
      "   帮助犯罪分子逃避处罚罪       0.94      0.88      0.91       105\n",
      "         开设赌场罪       0.97      0.99      0.98       141\n",
      "           强奸罪       0.91      0.94      0.93       141\n",
      "         强迫交易罪       0.95      0.90      0.92       141\n",
      "         强迫劳动罪       1.00      0.84      0.91        50\n",
      "         强迫卖淫罪       0.96      0.86      0.91       119\n",
      "         徇私枉法罪       0.88      0.92      0.90       141\n",
      "  徇私舞弊不移交刑事案件罪       0.98      0.69      0.81        64\n",
      "  扰乱无线电通讯管理秩序罪       0.97      1.00      0.98       141\n",
      "       投放危险物质罪       0.81      0.99      0.89       141\n",
      "           抢劫罪       0.94      0.96      0.95       141\n",
      "           抢夺罪       0.94      0.97      0.95       141\n",
      "         拐骗儿童罪       0.95      0.96      0.95       136\n",
      "     拒不支付劳动报酬罪       0.98      0.99      0.99       141\n",
      "         招摇撞骗罪       0.99      0.94      0.97       141\n",
      "      持有伪造的发票罪       0.97      0.96      0.96       141\n",
      "         挪用公款罪       0.86      0.91      0.88       141\n",
      "       挪用特定款物罪       0.98      0.88      0.93        52\n",
      "         挪用资金罪       0.92      0.88      0.90       141\n",
      "           放火罪       0.93      0.95      0.94       141\n",
      "         故意伤害罪       0.94      0.90      0.92       141\n",
      "         故意杀人罪       0.80      0.91      0.85       141\n",
      "       故意毁坏财物罪       0.87      0.94      0.90       141\n",
      "         敲诈勒索罪       0.93      0.96      0.94       141\n",
      "         污染环境罪       0.99      0.99      0.99       141\n",
      "         滥伐林木罪       0.88      0.98      0.93       141\n",
      "         滥用职权罪       0.93      0.81      0.87       141\n",
      "           爆炸罪       0.90      0.94      0.92       141\n",
      "         猥亵儿童罪       0.96      0.99      0.98       141\n",
      "         玩忽职守罪       0.95      0.89      0.92       141\n",
      "         盗伐林木罪       0.95      0.93      0.94       141\n",
      "           盗窃罪       0.94      0.98      0.96       141\n",
      "       破坏交通设施罪       0.97      0.85      0.91        80\n",
      "     破坏易燃易爆设备罪       0.97      1.00      0.99       141\n",
      "       破坏生产经营罪       0.95      0.95      0.95       141\n",
      "       破坏电力设备罪       0.91      0.99      0.95       141\n",
      "       破坏监管秩序罪       0.96      0.97      0.96       141\n",
      "    破坏计算机信息系统罪       0.97      0.96      0.96       117\n",
      "         票据诈骗罪       0.97      0.95      0.96       141\n",
      "       私分国有资产罪       0.93      0.97      0.95       141\n",
      "  组织他人偷越国（边）境罪       0.92      0.94      0.93       141\n",
      "         组织卖淫罪       0.91      0.89      0.90       141\n",
      "       组织淫秽表演罪       1.00      0.94      0.97        78\n",
      "       组织考试作弊罪       1.00      0.70      0.82        43\n",
      "           绑架罪       0.99      0.96      0.97       141\n",
      "         职务侵占罪       0.84      0.96      0.90       141\n",
      "     聚众冲击国家机关罪       0.95      0.92      0.94       131\n",
      "         聚众哄抢罪       1.00      0.69      0.82        45\n",
      "     聚众扰乱社会秩序罪       0.91      0.96      0.93       141\n",
      "         聚众斗殴罪       0.84      0.96      0.90       141\n",
      "           脱逃罪       0.82      0.88      0.85       141\n",
      "         虚开发票罪       0.93      0.97      0.95       141\n",
      "       虚报注册资本罪       0.95      0.86      0.90       141\n",
      "           行贿罪       0.85      0.89      0.87       141\n",
      "           诈骗罪       0.90      0.96      0.93       141\n",
      "         诬告陷害罪       0.96      0.93      0.94       141\n",
      "           诽谤罪       1.00      0.85      0.92        48\n",
      "           贪污罪       0.71      0.94      0.81       141\n",
      "         贷款诈骗罪       0.83      0.93      0.88       141\n",
      "           赌博罪       0.95      0.96      0.95       141\n",
      "         走私废物罪       0.99      1.00      0.99        68\n",
      "过失以危险方法危害公共安全罪       0.97      0.84      0.90       141\n",
      "     过失投放危险物质罪       1.00      0.33      0.50        39\n",
      "       过失致人死亡罪       0.91      0.96      0.93       141\n",
      "       过失致人重伤罪       0.90      0.99      0.95       141\n",
      "  运送他人偷越国（边）境罪       0.92      0.93      0.92       141\n",
      "       违法发放贷款罪       0.96      0.95      0.95       141\n",
      "           逃税罪       0.99      0.96      0.97       141\n",
      "           遗弃罪       0.97      0.93      0.95       134\n",
      "     重大劳动安全事故罪       0.92      0.96      0.94       141\n",
      "       重大责任事故罪       0.93      0.91      0.92       141\n",
      "           重婚罪       0.99      0.96      0.97       141\n",
      "  销售假冒注册商标的商品罪       0.96      0.94      0.95       141\n",
      "         集资诈骗罪       0.88      0.91      0.90       141\n",
      "    非国家工作人员受贿罪       0.95      0.89      0.92       141\n",
      "     非法买卖制毒物品罪       0.98      1.00      0.99       141\n",
      "       非法入侵住宅罪       0.95      0.98      0.97       141\n",
      "       非法出售发票罪       0.99      0.95      0.97       141\n",
      "      非法占用农用地罪       0.92      1.00      0.96       141\n",
      "     非法吸收公众存款罪       0.92      0.93      0.92       141\n",
      "         非法拘禁罪       0.92      0.96      0.94       141\n",
      "       非法持有毒品罪       0.81      0.99      0.89       141\n",
      "      非法捕捞水产品罪       0.97      0.99      0.98       141\n",
      "         非法狩猎罪       1.00      0.94      0.97       141\n",
      "    非法种植毒品原植物罪       1.00      0.99      1.00       141\n",
      "       非法组织卖血罪       1.00      0.99      1.00       126\n",
      "         非法经营罪       0.98      0.95      0.96       141\n",
      "     非法获取国家秘密罪       0.92      1.00      0.96       121\n",
      "         非法行医罪       0.98      0.99      0.98       141\n",
      "     非法进行节育手术罪       1.00      0.98      0.99       141\n",
      "         非法采矿罪       0.96      0.99      0.97       141\n",
      "         高利转贷罪       1.00      0.79      0.88        38\n",
      "\n",
      "      accuracy                           0.93     16556\n",
      "     macro avg       0.94      0.92      0.92     16556\n",
      "  weighted avg       0.93      0.93      0.93     16556\n",
      "\n",
      "\n",
      "对测试集集进行模型评估, Start running time: 2022-04-18 23:47:49.331259\n",
      "classification_report: \n",
      "                precision    recall  f1-score   support\n",
      "\n",
      "         串通投标罪       0.90      0.97      0.93        59\n",
      "         交通肇事罪       0.87      0.81      0.84        59\n",
      "         介绍贿赂罪       0.60      0.90      0.72        59\n",
      "         代替考试罪       0.90      0.90      0.90        21\n",
      "  以危险方法危害公共安全罪       0.68      0.64      0.66        59\n",
      "       传授犯罪方法罪       1.00      0.40      0.57        15\n",
      "         传播性病罪       1.00      0.95      0.97        20\n",
      "       传播淫秽物品罪       0.97      0.98      0.97        59\n",
      "           伪证罪       0.72      0.73      0.72        59\n",
      "         伪造货币罪       1.00      0.91      0.95        22\n",
      "           侮辱罪       0.81      0.65      0.72        26\n",
      "           侵占罪       0.96      0.75      0.84        59\n",
      "     侵犯公民个人信息罪       0.96      0.88      0.92        59\n",
      "        侵犯著作权罪       0.97      0.95      0.96        59\n",
      "         保险诈骗罪       0.90      0.90      0.90        59\n",
      "        信用卡诈骗罪       0.95      0.88      0.91        59\n",
      "       假冒注册商标罪       0.78      0.86      0.82        59\n",
      "      偷越国（边）境罪       0.92      0.97      0.94        59\n",
      "     冒充军人招摇撞骗罪       0.79      0.92      0.85        59\n",
      "          刑事其他       0.37      0.32      0.34        59\n",
      "      利用影响力受贿罪       1.00      0.25      0.40        20\n",
      "    动植物检疫徇私舞弊罪       0.96      1.00      0.98        50\n",
      "     包庇毒品犯罪分子罪       0.60      0.40      0.48        15\n",
      "       协助组织卖淫罪       0.66      0.76      0.71        59\n",
      "         单位受贿罪       0.73      0.78      0.75        59\n",
      "         单位行贿罪       0.62      0.69      0.66        59\n",
      "       危险物品肇事罪       0.93      0.48      0.64        29\n",
      "         危险驾驶罪       0.91      0.98      0.94        59\n",
      "           受贿罪       0.57      0.63      0.60        59\n",
      "         合同诈骗罪       0.74      0.44      0.55        59\n",
      "           失火罪       0.86      0.92      0.89        59\n",
      "         妨害作证罪       0.64      0.59      0.61        59\n",
      "      妨害信用卡管理罪       0.95      0.92      0.93        59\n",
      "         妨害公务罪       0.93      0.97      0.95        59\n",
      "       容留他人吸毒罪       0.93      0.90      0.91        59\n",
      "        对单位行贿罪       0.69      0.38      0.49        47\n",
      "   对非国家工作人员行贿罪       0.69      0.63      0.65        59\n",
      "         寻衅滋事罪       0.69      0.69      0.69        59\n",
      "     巨额财产来源不明罪       0.75      0.51      0.61        35\n",
      "   帮助犯罪分子逃避处罚罪       0.72      0.64      0.67        44\n",
      "         开设赌场罪       0.87      0.81      0.84        59\n",
      "           强奸罪       0.82      0.78      0.80        59\n",
      "         强迫交易罪       0.68      0.75      0.71        59\n",
      "         强迫劳动罪       1.00      0.67      0.80        21\n",
      "         强迫卖淫罪       0.86      0.76      0.81        50\n",
      "         徇私枉法罪       0.68      0.73      0.70        59\n",
      "  徇私舞弊不移交刑事案件罪       1.00      0.44      0.62        27\n",
      "  扰乱无线电通讯管理秩序罪       1.00      0.81      0.90        59\n",
      "       投放危险物质罪       0.74      0.93      0.83        59\n",
      "           抢劫罪       0.76      0.59      0.67        59\n",
      "           抢夺罪       0.79      0.95      0.86        59\n",
      "         拐骗儿童罪       0.87      0.93      0.90        57\n",
      "     拒不支付劳动报酬罪       0.93      0.97      0.95        59\n",
      "         招摇撞骗罪       0.88      0.73      0.80        59\n",
      "      持有伪造的发票罪       0.92      0.92      0.92        59\n",
      "         挪用公款罪       0.79      0.69      0.74        59\n",
      "       挪用特定款物罪       0.76      0.62      0.68        21\n",
      "         挪用资金罪       0.72      0.69      0.71        59\n",
      "           放火罪       0.77      0.90      0.83        59\n",
      "         故意伤害罪       0.83      0.68      0.75        59\n",
      "         故意杀人罪       0.77      0.83      0.80        59\n",
      "       故意毁坏财物罪       0.62      0.66      0.64        59\n",
      "         敲诈勒索罪       0.80      0.75      0.77        59\n",
      "         污染环境罪       0.98      0.81      0.89        59\n",
      "         滥伐林木罪       0.88      0.98      0.93        59\n",
      "         滥用职权罪       0.54      0.69      0.61        59\n",
      "           爆炸罪       0.75      0.92      0.82        59\n",
      "         猥亵儿童罪       0.92      0.93      0.92        59\n",
      "         玩忽职守罪       0.68      0.69      0.69        59\n",
      "         盗伐林木罪       0.89      0.92      0.90        59\n",
      "           盗窃罪       0.88      1.00      0.94        59\n",
      "       破坏交通设施罪       0.94      0.85      0.89        34\n",
      "     破坏易燃易爆设备罪       0.98      0.98      0.98        59\n",
      "       破坏生产经营罪       0.63      0.76      0.69        59\n",
      "       破坏电力设备罪       0.84      0.88      0.86        59\n",
      "       破坏监管秩序罪       0.91      0.85      0.88        59\n",
      "    破坏计算机信息系统罪       0.88      0.92      0.90        49\n",
      "         票据诈骗罪       0.90      0.97      0.93        59\n",
      "       私分国有资产罪       0.88      0.83      0.85        59\n",
      "  组织他人偷越国（边）境罪       0.96      0.92      0.94        59\n",
      "         组织卖淫罪       0.77      0.56      0.65        59\n",
      "       组织淫秽表演罪       0.94      0.94      0.94        33\n",
      "       组织考试作弊罪       0.92      0.67      0.77        18\n",
      "           绑架罪       0.86      0.85      0.85        59\n",
      "         职务侵占罪       0.91      0.86      0.89        59\n",
      "     聚众冲击国家机关罪       0.87      0.84      0.85        56\n",
      "         聚众哄抢罪       1.00      0.72      0.84        18\n",
      "     聚众扰乱社会秩序罪       0.68      0.88      0.77        59\n",
      "         聚众斗殴罪       0.80      0.83      0.82        59\n",
      "           脱逃罪       0.71      0.85      0.78        59\n",
      "         虚开发票罪       0.89      0.86      0.88        59\n",
      "       虚报注册资本罪       0.89      0.85      0.87        59\n",
      "           行贿罪       0.53      0.41      0.46        59\n",
      "           诈骗罪       0.86      0.75      0.80        59\n",
      "         诬告陷害罪       0.84      0.83      0.84        59\n",
      "           诽谤罪       0.83      0.75      0.79        20\n",
      "           贪污罪       0.42      0.61      0.50        59\n",
      "         贷款诈骗罪       0.77      0.97      0.86        59\n",
      "           赌博罪       0.89      0.95      0.92        59\n",
      "         走私废物罪       0.96      0.93      0.95        28\n",
      "过失以危险方法危害公共安全罪       0.70      0.73      0.72        59\n",
      "     过失投放危险物质罪       0.50      0.06      0.11        16\n",
      "       过失致人死亡罪       0.73      0.75      0.74        59\n",
      "       过失致人重伤罪       0.78      0.97      0.86        59\n",
      "  运送他人偷越国（边）境罪       0.46      0.93      0.62        59\n",
      "       违法发放贷款罪       0.83      0.90      0.86        59\n",
      "           逃税罪       0.81      0.93      0.87        59\n",
      "           遗弃罪       0.92      0.88      0.90        56\n",
      "     重大劳动安全事故罪       0.76      0.90      0.82        59\n",
      "       重大责任事故罪       0.76      0.75      0.75        59\n",
      "           重婚罪       0.92      0.97      0.94        59\n",
      "  销售假冒注册商标的商品罪       0.88      0.88      0.88        59\n",
      "         集资诈骗罪       0.80      0.83      0.82        59\n",
      "    非国家工作人员受贿罪       0.72      0.86      0.78        59\n",
      "     非法买卖制毒物品罪       0.89      0.93      0.91        59\n",
      "       非法入侵住宅罪       0.67      0.68      0.67        59\n",
      "       非法出售发票罪       0.96      0.92      0.94        59\n",
      "      非法占用农用地罪       0.94      0.81      0.87        59\n",
      "     非法吸收公众存款罪       0.86      0.85      0.85        59\n",
      "         非法拘禁罪       0.77      0.69      0.73        59\n",
      "       非法持有毒品罪       0.69      0.98      0.81        59\n",
      "      非法捕捞水产品罪       0.97      0.98      0.97        59\n",
      "         非法狩猎罪       0.96      0.88      0.92        59\n",
      "    非法种植毒品原植物罪       0.98      1.00      0.99        59\n",
      "       非法组织卖血罪       1.00      0.32      0.49        53\n",
      "         非法经营罪       0.88      0.61      0.72        59\n",
      "     非法获取国家秘密罪       0.92      0.94      0.93        51\n",
      "         非法行医罪       0.86      0.86      0.86        59\n",
      "     非法进行节育手术罪       1.00      1.00      1.00        59\n",
      "         非法采矿罪       0.95      0.98      0.97        59\n",
      "         高利转贷罪       1.00      0.25      0.40        16\n",
      "\n",
      "      accuracy                           0.81      6927\n",
      "     macro avg       0.83      0.79      0.79      6927\n",
      "  weighted avg       0.82      0.81      0.81      6927\n",
      "\n",
      "\n"
     ]
    }
   ],
   "source": [
    "LR_model = LogisticRegression(\n",
    "#     penalty=\"l1\"\n",
    "#     , C = 0.5\n",
    "    multi_class=\"multinomial\"\n",
    "    # multi_class=multi_class\n",
    "    , solver= 'saga'\n",
    "    , max_iter=20\n",
    "    , random_state=20\n",
    "     )\n",
    "LR_model = LR_model.fit(tfidfTrain, labelTrain_list)\n",
    "\n",
    "ytrain_pred = LR_model.predict(tfidfTrain)\n",
    "print(\"对训练集进行模型评估, Start running time: %s\" % datetime.datetime.now())\n",
    "print(\"classification_report: \")\n",
    "print(classification_report(labelTrain_list, ytrain_pred))\n",
    "# print(\"accuracy_score :\", metrics.accuracy_score(labelTrain_list, ytrain_pred))\n",
    "print(\"\")\n",
    "\n",
    "\n",
    "ytest_pred = LR_model.predict(tfidfTest)\n",
    "print(\"对测试集集进行模型评估, Start running time: %s\" % datetime.datetime.now())\n",
    "print(\"classification_report: \")\n",
    "print(classification_report(labelTest_list, ytest_pred))\n",
    "# print(\"accuracy_score :\" , metrics.accuracy_score(labelTest_list, ytest_pred))\n",
    "print(\"\")"
   ]
  },
  {
   "cell_type": "code",
   "execution_count": null,
   "metadata": {},
   "outputs": [],
   "source": []
  },
  {
   "cell_type": "code",
   "execution_count": null,
   "metadata": {},
   "outputs": [],
   "source": []
  },
  {
   "cell_type": "code",
   "execution_count": null,
   "metadata": {},
   "outputs": [],
   "source": []
  },
  {
   "cell_type": "code",
   "execution_count": null,
   "metadata": {},
   "outputs": [],
   "source": []
  },
  {
   "cell_type": "code",
   "execution_count": null,
   "metadata": {},
   "outputs": [],
   "source": []
  },
  {
   "cell_type": "code",
   "execution_count": null,
   "metadata": {},
   "outputs": [],
   "source": []
  }
 ],
 "metadata": {
  "kernelspec": {
   "display_name": "Python 3",
   "language": "python",
   "name": "python3"
  },
  "language_info": {
   "codemirror_mode": {
    "name": "ipython",
    "version": 3
   },
   "file_extension": ".py",
   "mimetype": "text/x-python",
   "name": "python",
   "nbconvert_exporter": "python",
   "pygments_lexer": "ipython3",
   "version": "3.7.0"
  }
 },
 "nbformat": 4,
 "nbformat_minor": 2
}
