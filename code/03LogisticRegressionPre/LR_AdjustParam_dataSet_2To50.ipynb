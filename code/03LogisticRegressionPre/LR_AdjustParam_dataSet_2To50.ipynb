{
 "cells": [
  {
   "cell_type": "code",
   "execution_count": null,
   "metadata": {},
   "outputs": [],
   "source": []
  },
  {
   "cell_type": "code",
   "execution_count": 1,
   "metadata": {},
   "outputs": [],
   "source": [
    "from sklearn.feature_extraction.text import TfidfTransformer  # TF-IDF向量转换类\n",
    "from sklearn.feature_extraction.text import CountVectorizer  # 词频矩阵\n",
    "from sklearn.feature_extraction.text import TfidfVectorizer\n",
    "\n",
    "from sklearn.multiclass import OneVsRestClassifier  # 结合SVM的多分类组合辅助器\n",
    "import sklearn.svm as svm  # SVM辅助器\n",
    "from sklearn.linear_model import LogisticRegression\n",
    "\n",
    "from sklearn.metrics import classification_report\n",
    "from sklearn import metrics\n",
    "from sklearn.model_selection import cross_val_score, cross_validate\n",
    "\n",
    "from os import listdir\n",
    "import os\n",
    "import jieba\n",
    "\n",
    "from time import time\n",
    "import datetime"
   ]
  },
  {
   "cell_type": "code",
   "execution_count": 2,
   "metadata": {},
   "outputs": [],
   "source": [
    "def getStopWord(inputPath):\n",
    "    with open(inputPath, \"r\", encoding='utf-8') as file:\n",
    "        content = file.read()\n",
    "        file.close()\n",
    "    stopWordList = content.splitlines()\n",
    "    return stopWordList\n",
    "\n",
    "stopwords_filePath = \"B:\\\\code_master\\\\code\\\\03DataSet\\\\停用词01.txt\"\n",
    "stopWordList = getStopWord(stopwords_filePath)"
   ]
  },
  {
   "cell_type": "code",
   "execution_count": 3,
   "metadata": {},
   "outputs": [
    {
     "name": "stderr",
     "output_type": "stream",
     "text": [
      "Building prefix dict from the default dictionary ...\n",
      "Loading model from cache C:\\Users\\bigdata\\AppData\\Local\\Temp\\jieba.cache\n",
      "Loading model cost 0.741 seconds.\n",
      "Prefix dict has been built successfully.\n"
     ]
    }
   ],
   "source": [
    "# getDataLabelList() : 取数据、标签列表\n",
    "def getDataLabelList(inputPath):\n",
    "    dataList = []\n",
    "    labelList = []\n",
    "    fatherLists = listdir(inputPath) # 目录 ['xx罪.txt','xx罪.txt',...]\n",
    "    for eachDir in fatherLists:  # 遍历目录中各个文件\n",
    "        eachPath = inputPath +\"\\\\\"+ eachDir  # 保存目录中每个文件路径，便于遍历二级文件  G:\\\\dataSetTest\\\\xx罪.txt\n",
    "        with open(eachPath, 'r', encoding=\"utf-8\") as f:\n",
    "            content = f.readlines()\n",
    "            for i in range(len(content)):\n",
    "                labelList.append(eachDir.replace('.txt',''))\n",
    "                dataList.append(\" \".join(jieba.cut(content[i].strip())))\n",
    "            f.close()\n",
    "    return dataList, labelList\n",
    "\n",
    "\n",
    "\n",
    "# 训练集的特征、标签列表\n",
    "fileTrainPath = \"B:\\\\code_master\\\\code\\\\03DataSet\\\\dataTrainSet_2To50\"\n",
    "dataTrain_list, labelTrain_list = getDataLabelList(fileTrainPath)\n",
    "# 测试集的特征、标签列表\n",
    "fileTestPath = \"B:\\\\code_master\\\\code\\\\03DataSet\\\\dataTestSet_2To50\"\n",
    "dataTest_list, labelTest_list = getDataLabelList(fileTestPath)"
   ]
  },
  {
   "cell_type": "code",
   "execution_count": 4,
   "metadata": {},
   "outputs": [
    {
     "name": "stdout",
     "output_type": "stream",
     "text": [
      "(tfidfTrain.toarray()).shape : \n",
      "(773, 5000)\n",
      "(tfidfTest.toarray()).shape : \n",
      "(383, 5000)\n",
      "multi_class: multinomial\n",
      "对训练集进行模型评估, Start running time: 2022-04-18 23:56:04.272074\n",
      "accuracy_score : 0.8305304010349288\n",
      "\n",
      "对测试集集进行模型评估, Start running time: 2022-04-18 23:56:04.277061\n",
      "accuracy_score : 0.577023498694517\n",
      "\n",
      "multi_class: ovr\n",
      "对训练集进行模型评估, Start running time: 2022-04-18 23:56:05.555653\n",
      "accuracy_score : 0.8227684346701164\n",
      "\n",
      "对测试集集进行模型评估, Start running time: 2022-04-18 23:56:05.562668\n",
      "accuracy_score : 0.5744125326370757\n",
      "\n"
     ]
    }
   ],
   "source": [
    "# getPreResult() : 输入案例并返回预测结果\n",
    "vectorizer = CountVectorizer(stop_words=stopWordList\n",
    "                             # , min_df=0.02\n",
    "                             # , max_df=0.5\n",
    "                             , max_features= 5000\n",
    "                             )  # 完善min_df的取值 ，学习曲线？？？\n",
    "# 其他类别专用分类，该类会将文本中的词语转换为词频矩阵，矩阵元素a[i][j] 表示j词在i类文本下的词频\n",
    "transformer = TfidfTransformer()  # 该类会统计每个词语的tf-idf权值\n",
    "#对训练集向量化\n",
    "cipinTrain = vectorizer.fit_transform(dataTrain_list)\n",
    "tfidfTrain = transformer.fit_transform(cipinTrain)  # if-idf中的输入为已经处理过的词频矩阵\n",
    "print(\"(tfidfTrain.toarray()).shape : \")\n",
    "print((tfidfTrain.toarray()).shape)\n",
    "#对测试集向量化\n",
    "cipinTest = vectorizer.transform(dataTest_list)\n",
    "tfidfTest = transformer.transform(cipinTest)\n",
    "print(\"(tfidfTest.toarray()).shape : \")\n",
    "print((tfidfTest.toarray()).shape)\n",
    "\n",
    "# solver_list = ['newton-cg','lbfgs','sag','saga']\n",
    "# for i in range(len(solver_list)):\n",
    "for multi_class in ('multinomial','ovr'):\n",
    "    # print(\"调参solver: \",solver_list[i])\n",
    "    print(\"multi_class:\",multi_class)\n",
    "    #用训练集训练模型\n",
    "    # model = OneVsRestClassifier(svm.SVC(kernel='linear')) #实例化模型\n",
    "    LR_model_2To50 = LogisticRegression(\n",
    "                                   # multi_class=\"multinomial\"\n",
    "                                  multi_class=multi_class\n",
    "                                  # , solver=solver_list[i]\n",
    "                                  # , random_state=2\n",
    "                                  )\n",
    "    LR_model_2To50 = LR_model_2To50.fit(tfidfTrain, labelTrain_list)\n",
    "\n",
    "    ytrain_pred = LR_model_2To50.predict(tfidfTrain)\n",
    "    print(\"对训练集进行模型评估, Start running time: %s\" % datetime.datetime.now())\n",
    "    print(\"accuracy_score :\", metrics.accuracy_score(labelTrain_list, ytrain_pred))\n",
    "    print(\"\")\n",
    "\n",
    "\n",
    "    ytest_pred = LR_model_2To50.predict(tfidfTest)\n",
    "    print(\"对测试集集进行模型评估, Start running time: %s\" % datetime.datetime.now())\n",
    "    print(\"accuracy_score :\" , metrics.accuracy_score(labelTest_list, ytest_pred))\n",
    "    print(\"\")"
   ]
  },
  {
   "cell_type": "code",
   "execution_count": 5,
   "metadata": {
    "collapsed": true
   },
   "outputs": [
    {
     "name": "stderr",
     "output_type": "stream",
     "text": [
      "C:\\Users\\bigdata\\AppData\\Roaming\\Python\\Python37\\site-packages\\sklearn\\linear_model\\_sag.py:354: ConvergenceWarning: The max_iter was reached which means the coef_ did not converge\n",
      "  ConvergenceWarning,\n",
      "C:\\Users\\bigdata\\AppData\\Roaming\\Python\\Python37\\site-packages\\sklearn\\linear_model\\_sag.py:354: ConvergenceWarning: The max_iter was reached which means the coef_ did not converge\n",
      "  ConvergenceWarning,\n",
      "C:\\Users\\bigdata\\AppData\\Roaming\\Python\\Python37\\site-packages\\sklearn\\linear_model\\_sag.py:354: ConvergenceWarning: The max_iter was reached which means the coef_ did not converge\n",
      "  ConvergenceWarning,\n",
      "C:\\Users\\bigdata\\AppData\\Roaming\\Python\\Python37\\site-packages\\sklearn\\linear_model\\_sag.py:354: ConvergenceWarning: The max_iter was reached which means the coef_ did not converge\n",
      "  ConvergenceWarning,\n",
      "C:\\Users\\bigdata\\AppData\\Roaming\\Python\\Python37\\site-packages\\sklearn\\linear_model\\_sag.py:354: ConvergenceWarning: The max_iter was reached which means the coef_ did not converge\n",
      "  ConvergenceWarning,\n",
      "C:\\Users\\bigdata\\AppData\\Roaming\\Python\\Python37\\site-packages\\sklearn\\linear_model\\_sag.py:354: ConvergenceWarning: The max_iter was reached which means the coef_ did not converge\n",
      "  ConvergenceWarning,\n",
      "C:\\Users\\bigdata\\AppData\\Roaming\\Python\\Python37\\site-packages\\sklearn\\linear_model\\_sag.py:354: ConvergenceWarning: The max_iter was reached which means the coef_ did not converge\n",
      "  ConvergenceWarning,\n",
      "C:\\Users\\bigdata\\AppData\\Roaming\\Python\\Python37\\site-packages\\sklearn\\linear_model\\_sag.py:354: ConvergenceWarning: The max_iter was reached which means the coef_ did not converge\n",
      "  ConvergenceWarning,\n",
      "C:\\Users\\bigdata\\AppData\\Roaming\\Python\\Python37\\site-packages\\sklearn\\linear_model\\_sag.py:354: ConvergenceWarning: The max_iter was reached which means the coef_ did not converge\n",
      "  ConvergenceWarning,\n",
      "C:\\Users\\bigdata\\AppData\\Roaming\\Python\\Python37\\site-packages\\sklearn\\linear_model\\_sag.py:354: ConvergenceWarning: The max_iter was reached which means the coef_ did not converge\n",
      "  ConvergenceWarning,\n",
      "C:\\Users\\bigdata\\AppData\\Roaming\\Python\\Python37\\site-packages\\sklearn\\linear_model\\_sag.py:354: ConvergenceWarning: The max_iter was reached which means the coef_ did not converge\n",
      "  ConvergenceWarning,\n",
      "C:\\Users\\bigdata\\AppData\\Roaming\\Python\\Python37\\site-packages\\sklearn\\linear_model\\_sag.py:354: ConvergenceWarning: The max_iter was reached which means the coef_ did not converge\n",
      "  ConvergenceWarning,\n"
     ]
    },
    {
     "name": "stdout",
     "output_type": "stream",
     "text": [
      "[0.6416558861578266, 0.8382923673997412, 0.8369987063389392, 0.8369987063389392, 0.8369987063389392, 0.8369987063389392, 0.8382923673997412, 0.8344113842173351, 0.8369987063389392, 0.8357050452781372, 0.8357050452781372, 0.8318240620957309, 0.833117723156533, 0.833117723156533, 0.8305304010349288, 0.833117723156533, 0.833117723156533, 0.8318240620957309, 0.833117723156533, 0.8318240620957309]\n",
      "[0.45691906005221933, 0.5796344647519582, 0.5796344647519582, 0.5796344647519582, 0.5796344647519582, 0.5822454308093995, 0.5796344647519582, 0.577023498694517, 0.5796344647519582, 0.577023498694517, 0.577023498694517, 0.577023498694517, 0.577023498694517, 0.577023498694517, 0.577023498694517, 0.577023498694517, 0.577023498694517, 0.577023498694517, 0.577023498694517, 0.577023498694517]\n"
     ]
    }
   ],
   "source": [
    "import numpy as np\n",
    "import matplotlib.pyplot as plt\n",
    "\n",
    "lr = []\n",
    "lrtest = []\n",
    "\n",
    "for i in np.arange(1,201,10):\n",
    "    LR_model_2To50 = LogisticRegression(\n",
    "        multi_class=\"multinomial\"\n",
    "        , solver = 'saga'\n",
    "        , max_iter=i \n",
    "    )\n",
    "    LR_model_2To50 = LR_model_2To50.fit(tfidfTrain, labelTrain_list)\n",
    "    ytrain_pred = LR_model_2To50.predict(tfidfTrain)\n",
    "    ytest_pred = LR_model_2To50.predict(tfidfTest)\n",
    "    \n",
    "    lr.append(metrics.accuracy_score(labelTrain_list, ytrain_pred))\n",
    "    lrtest.append(metrics.accuracy_score(labelTest_list, ytest_pred))\n",
    "print(lr)\n",
    "print(lrtest)"
   ]
  },
  {
   "cell_type": "code",
   "execution_count": 6,
   "metadata": {},
   "outputs": [
    {
     "data": {
      "image/png": "[encoded data removed]",
      "text/plain": [
       "<Figure size 1440x360 with 1 Axes>"
      ]
     },
     "metadata": {
      "needs_background": "light"
     },
     "output_type": "display_data"
    }
   ],
   "source": [
    "graph = [lr,lrtest]\n",
    "color = [\"black\",\"gray\"]\n",
    "label = [\"Lr\",\"Lrtest\"]\n",
    "plt.figure(figsize=(20,5))\n",
    "for i in range(len(graph)):\n",
    "#         plt.plot(np.arange(1,201,10),lr,'black',label='lr')\n",
    "    plt.plot(np.arange(1,201,10),graph[i],color[i],label=label[i])\n",
    "plt.legend(loc=4)\n",
    "plt.xticks(np.arange(1,201,10))\n",
    "plt.show()"
   ]
  },
  {
   "cell_type": "code",
   "execution_count": 9,
   "metadata": {
    "scrolled": true
   },
   "outputs": [
    {
     "name": "stdout",
     "output_type": "stream",
     "text": [
      "调参solver:  newton-cg\n",
      "对训练集进行模型评估, Start running time: 2022-04-19 00:01:02.591903\n",
      "accuracy_score : 0.8305304010349288\n",
      "\n",
      "对测试集集进行模型评估, Start running time: 2022-04-19 00:01:02.600879\n",
      "accuracy_score : 0.577023498694517\n",
      "\n",
      "调参solver:  lbfgs\n"
     ]
    },
    {
     "name": "stderr",
     "output_type": "stream",
     "text": [
      "C:\\Users\\bigdata\\AppData\\Roaming\\Python\\Python37\\site-packages\\sklearn\\linear_model\\_logistic.py:818: ConvergenceWarning: lbfgs failed to converge (status=1):\n",
      "STOP: TOTAL NO. of ITERATIONS REACHED LIMIT.\n",
      "\n",
      "Increase the number of iterations (max_iter) or scale the data as shown in:\n",
      "    https://scikit-learn.org/stable/modules/preprocessing.html\n",
      "Please also refer to the documentation for alternative solver options:\n",
      "    https://scikit-learn.org/stable/modules/linear_model.html#logistic-regression\n",
      "  extra_warning_msg=_LOGISTIC_SOLVER_CONVERGENCE_MSG,\n"
     ]
    },
    {
     "name": "stdout",
     "output_type": "stream",
     "text": [
      "对训练集进行模型评估, Start running time: 2022-04-19 00:01:04.019098\n",
      "accuracy_score : 0.8305304010349288\n",
      "\n",
      "对测试集集进行模型评估, Start running time: 2022-04-19 00:01:04.024084\n",
      "accuracy_score : 0.577023498694517\n",
      "\n",
      "调参solver:  sag\n"
     ]
    },
    {
     "name": "stderr",
     "output_type": "stream",
     "text": [
      "C:\\Users\\bigdata\\AppData\\Roaming\\Python\\Python37\\site-packages\\sklearn\\linear_model\\_sag.py:354: ConvergenceWarning: The max_iter was reached which means the coef_ did not converge\n",
      "  ConvergenceWarning,\n"
     ]
    },
    {
     "name": "stdout",
     "output_type": "stream",
     "text": [
      "对训练集进行模型评估, Start running time: 2022-04-19 00:01:04.557662\n",
      "accuracy_score : 0.8227684346701164\n",
      "\n",
      "对测试集集进行模型评估, Start running time: 2022-04-19 00:01:04.562649\n",
      "accuracy_score : 0.577023498694517\n",
      "\n",
      "调参solver:  saga\n",
      "对训练集进行模型评估, Start running time: 2022-04-19 00:01:05.225882\n",
      "accuracy_score : 0.8382923673997412\n",
      "\n",
      "对测试集集进行模型评估, Start running time: 2022-04-19 00:01:05.230867\n",
      "accuracy_score : 0.5796344647519582\n",
      "\n"
     ]
    },
    {
     "name": "stderr",
     "output_type": "stream",
     "text": [
      "C:\\Users\\bigdata\\AppData\\Roaming\\Python\\Python37\\site-packages\\sklearn\\linear_model\\_sag.py:354: ConvergenceWarning: The max_iter was reached which means the coef_ did not converge\n",
      "  ConvergenceWarning,\n"
     ]
    }
   ],
   "source": [
    "solver_list = ['newton-cg', 'lbfgs', 'sag', 'saga']\n",
    "for i in range(len(solver_list)):\n",
    "    print(\"调参solver: \", solver_list[i])\n",
    "    #用训练集训练模型\n",
    "    # model = OneVsRestClassifier(svm.SVC(kernel='linear')) #实例化模型\n",
    "    LR_model_2To50 = LogisticRegression(\n",
    "        multi_class=\"multinomial\"\n",
    "        # multi_class=multi_class\n",
    "        , solver= solver_list[i]\n",
    "        , max_iter=20\n",
    "        # , random_state=2\n",
    "\n",
    "                                  )\n",
    "    LR_model_2To50 = LR_model_2To50.fit(tfidfTrain, labelTrain_list)\n",
    "\n",
    "    ytrain_pred = LR_model_2To50.predict(tfidfTrain)\n",
    "    print(\"对训练集进行模型评估, Start running time: %s\" % datetime.datetime.now())\n",
    "    print(\"accuracy_score :\", metrics.accuracy_score(labelTrain_list, ytrain_pred))\n",
    "    print(\"\")\n",
    "\n",
    "\n",
    "    ytest_pred = LR_model_2To50.predict(tfidfTest)\n",
    "    print(\"对测试集集进行模型评估, Start running time: %s\" % datetime.datetime.now())\n",
    "    print(\"accuracy_score :\" , metrics.accuracy_score(labelTest_list, ytest_pred))\n",
    "    print(\"\")\n"
   ]
  },
  {
   "cell_type": "code",
   "execution_count": null,
   "metadata": {},
   "outputs": [],
   "source": []
  },
  {
   "cell_type": "code",
   "execution_count": null,
   "metadata": {},
   "outputs": [],
   "source": []
  },
  {
   "cell_type": "code",
   "execution_count": 10,
   "metadata": {
    "collapsed": true
   },
   "outputs": [
    {
     "name": "stderr",
     "output_type": "stream",
     "text": [
      "C:\\Users\\bigdata\\AppData\\Roaming\\Python\\Python37\\site-packages\\sklearn\\linear_model\\_sag.py:354: ConvergenceWarning: The max_iter was reached which means the coef_ did not converge\n",
      "  ConvergenceWarning,\n",
      "C:\\Users\\bigdata\\AppData\\Roaming\\Python\\Python37\\site-packages\\sklearn\\linear_model\\_sag.py:354: ConvergenceWarning: The max_iter was reached which means the coef_ did not converge\n",
      "  ConvergenceWarning,\n",
      "C:\\Users\\bigdata\\AppData\\Roaming\\Python\\Python37\\site-packages\\sklearn\\linear_model\\_sag.py:354: ConvergenceWarning: The max_iter was reached which means the coef_ did not converge\n",
      "  ConvergenceWarning,\n",
      "C:\\Users\\bigdata\\AppData\\Roaming\\Python\\Python37\\site-packages\\sklearn\\linear_model\\_sag.py:354: ConvergenceWarning: The max_iter was reached which means the coef_ did not converge\n",
      "  ConvergenceWarning,\n",
      "C:\\Users\\bigdata\\AppData\\Roaming\\Python\\Python37\\site-packages\\sklearn\\linear_model\\_sag.py:354: ConvergenceWarning: The max_iter was reached which means the coef_ did not converge\n",
      "  ConvergenceWarning,\n",
      "C:\\Users\\bigdata\\AppData\\Roaming\\Python\\Python37\\site-packages\\sklearn\\linear_model\\_sag.py:354: ConvergenceWarning: The max_iter was reached which means the coef_ did not converge\n",
      "  ConvergenceWarning,\n",
      "C:\\Users\\bigdata\\AppData\\Roaming\\Python\\Python37\\site-packages\\sklearn\\linear_model\\_sag.py:354: ConvergenceWarning: The max_iter was reached which means the coef_ did not converge\n",
      "  ConvergenceWarning,\n",
      "C:\\Users\\bigdata\\AppData\\Roaming\\Python\\Python37\\site-packages\\sklearn\\linear_model\\_sag.py:354: ConvergenceWarning: The max_iter was reached which means the coef_ did not converge\n",
      "  ConvergenceWarning,\n",
      "C:\\Users\\bigdata\\AppData\\Roaming\\Python\\Python37\\site-packages\\sklearn\\linear_model\\_sag.py:354: ConvergenceWarning: The max_iter was reached which means the coef_ did not converge\n",
      "  ConvergenceWarning,\n",
      "C:\\Users\\bigdata\\AppData\\Roaming\\Python\\Python37\\site-packages\\sklearn\\linear_model\\_sag.py:354: ConvergenceWarning: The max_iter was reached which means the coef_ did not converge\n",
      "  ConvergenceWarning,\n"
     ]
    },
    {
     "data": {
      "image/png": "[encoded data removed]",
      "text/plain": [
       "<Figure size 432x288 with 1 Axes>"
      ]
     },
     "metadata": {
      "needs_background": "light"
     },
     "output_type": "display_data"
    }
   ],
   "source": [
    "import matplotlib.pyplot as plt\n",
    "test = []\n",
    "for i in np.arange(1,101,10):\n",
    "    \n",
    "    LR_model_2To50 = LogisticRegression(\n",
    "    #     penalty=\"l1\"\n",
    "    #     , C = 0.5\n",
    "        multi_class=\"multinomial\"\n",
    "        # multi_class=multi_class\n",
    "        , solver= 'saga'\n",
    "        , max_iter=20\n",
    "        , random_state=i\n",
    "     )\n",
    "    LR_model_2To50 = LR_model_2To50.fit(tfidfTrain, labelTrain_list)\n",
    "    score = LR_model_2To50.score(tfidfTest, labelTest_list)\n",
    "    test.append(score)\n",
    "plt.plot(np.arange(1,101,10),test,color=\"red\",label=\"random_state\")\n",
    "plt.legend()\n",
    "plt.show()"
   ]
  },
  {
   "cell_type": "code",
   "execution_count": 14,
   "metadata": {
    "collapsed": true
   },
   "outputs": [
    {
     "name": "stdout",
     "output_type": "stream",
     "text": [
      "对训练集进行模型评估, Start running time: 2022-04-19 00:09:51.923313\n",
      "classification_report: \n",
      "                   precision    recall  f1-score   support\n",
      "\n",
      "         为亲友非法牟利罪       0.00      0.00      0.00         3\n",
      "         传染病防治失职罪       0.00      0.00      0.00         1\n",
      "          侵犯商业秘密罪       0.79      1.00      0.88        19\n",
      "          侵犯通信自由罪       0.00      0.00      0.00         1\n",
      "           信用证诈骗罪       1.00      0.86      0.92         7\n",
      "            倒卖文物罪       0.80      1.00      0.89        32\n",
      "            假冒专利罪       0.00      0.00      0.00         2\n",
      "      出具证明文件重大失实罪       1.00      0.90      0.95        10\n",
      "         出售出入境证件罪       1.00      1.00      1.00         9\n",
      "            刑讯逼供罪       1.00      0.89      0.94         9\n",
      "       利用未公开信息交易罪       1.00      0.80      0.89         5\n",
      "         劫夺被押解人员罪       1.00      0.71      0.83         7\n",
      "            医疗事故罪       1.00      1.00      1.00        14\n",
      "          危害公共安全罪       0.00      0.00      0.00         6\n",
      "            变造货币罪       0.00      0.00      0.00         3\n",
      "       吸收客户资金不入账罪       1.00      0.33      0.50         6\n",
      "      失职致使在押人员脱逃罪       0.86      1.00      0.93        19\n",
      "            妨害清算罪       0.00      0.00      0.00         1\n",
      "       对有影响力的人行贿罪       0.00      0.00      0.00         2\n",
      "        工程重大安全事故罪       1.00      1.00      1.00        14\n",
      "      帮助信息网络犯罪活动罪       0.00      0.00      0.00         2\n",
      "          引诱幼女卖淫罪       0.00      0.00      0.00         2\n",
      "      引诱未成年人聚众淫乱罪       0.00      0.00      0.00         1\n",
      "        强令违章冒险作业罪       0.00      0.00      0.00         2\n",
      "          强迫他人吸毒罪       0.66      1.00      0.79        31\n",
      "          打击报复证人罪       0.68      1.00      0.81        25\n",
      "      扰乱国家机关工作秩序罪       1.00      0.89      0.94         9\n",
      "          扰乱法庭秩序罪       0.95      1.00      0.98        21\n",
      "        投放虚假危险物质罪       1.00      0.92      0.96        12\n",
      "        提供虚假证明文件罪       0.90      1.00      0.95        19\n",
      "        擅自设立金融机构罪       0.00      0.00      0.00         4\n",
      "    放纵制售伪劣商品犯罪行为罪       0.00      0.00      0.00         3\n",
      "            放纵走私罪       1.00      0.25      0.40         4\n",
      "          故意损毁文物罪       0.83      0.83      0.83        12\n",
      "        故意泄露国家秘密罪       1.00      1.00      1.00        19\n",
      "      教育设施重大安全事故罪       1.00      0.86      0.92         7\n",
      "            暴力取证罪       0.00      0.00      0.00         1\n",
      "          有价证券诈骗罪       1.00      0.43      0.60         7\n",
      "              洗钱罪       1.00      1.00      1.00        14\n",
      "          消防责任事故罪       1.00      1.00      1.00        13\n",
      "          煽动分裂国家罪       0.00      0.00      0.00         2\n",
      "      煽动暴力抗拒法律实施罪       0.00      0.00      0.00         1\n",
      "        煽动颠覆国家政权罪       0.00      0.00      0.00         1\n",
      "          环境监管失职罪       1.00      1.00      1.00        15\n",
      "          破坏交通工具罪       0.59      1.00      0.74        24\n",
      "            破坏军婚罪       1.00      1.00      1.00         7\n",
      "            破坏选举罪       1.00      0.67      0.80         3\n",
      "          私放在押人员罪       0.00      0.00      0.00         6\n",
      "        组织出卖人体器官罪       1.00      1.00      1.00         7\n",
      "组织未成年人进行违反治安管理活动罪       1.00      1.00      1.00        10\n",
      "            组织越狱罪       0.00      0.00      0.00         2\n",
      "     聚众扰乱军事管理区秩序罪       0.00      0.00      0.00         1\n",
      "            聚众淫乱罪       1.00      0.67      0.80         9\n",
      "              虐待罪       0.72      1.00      0.84        28\n",
      "          虐待被监管人罪       0.79      0.96      0.86        23\n",
      "            虚假广告罪       1.00      0.29      0.44         7\n",
      "            虚假诉讼罪       0.95      1.00      0.97        19\n",
      "          走私制毒物品罪       1.00      0.86      0.92         7\n",
      "          走私淫秽物品罪       0.00      0.00      0.00         2\n",
      "          走私贵重金属罪       1.00      1.00      1.00         8\n",
      "            过失决水罪       0.00      0.00      0.00         1\n",
      "        过失损坏交通设施罪       0.00      0.00      0.00         1\n",
      "      过失损坏易燃易爆设备罪       0.00      0.00      0.00         3\n",
      "        过失损坏电力设备罪       1.00      0.92      0.96        13\n",
      "          过失损毁文物罪       0.00      0.00      0.00         5\n",
      "            过失爆炸罪       1.00      0.38      0.55         8\n",
      "     违法发放林木采伐许可证罪       1.00      1.00      1.00        14\n",
      "        违规出具金融票证罪       1.00      0.43      0.60         7\n",
      "          逃避追缴欠税罪       1.00      0.86      0.92         7\n",
      "          金融凭证诈骗罪       0.45      1.00      0.62        25\n",
      "         销售侵权复制品罪       1.00      1.00      1.00        12\n",
      "          阻碍军事行动罪       0.00      0.00      0.00         1\n",
      "        阻碍军人执行职务罪       0.00      0.00      0.00         2\n",
      "   非法低价出让国有土地使用权罪       0.00      0.00      0.00         2\n",
      "     非法侵入计算机信息系统罪       1.00      0.89      0.94         9\n",
      "     非法出售增值税专用发票罪       1.00      1.00      1.00        14\n",
      "        非法利用信息网络罪       0.00      0.00      0.00         3\n",
      "     非法处置进口的固体废物罪       0.00      0.00      0.00         2\n",
      "            非法搜查罪       0.00      0.00      0.00         4\n",
      "        非法经营同类营业罪       0.00      0.00      0.00         4\n",
      "          颠覆国家政权罪       0.00      0.00      0.00         1\n",
      "          食品监管渎职罪       0.78      1.00      0.88        32\n",
      "          骗取出口退税罪       0.93      1.00      0.96        25\n",
      "          骗取出境证件罪       1.00      1.00      1.00        16\n",
      "            骗购外汇罪       0.00      0.00      0.00         2\n",
      "\n",
      "         accuracy                           0.84       773\n",
      "        macro avg       0.55      0.51      0.51       773\n",
      "     weighted avg       0.79      0.84      0.79       773\n",
      "\n",
      "\n",
      "对测试集集进行模型评估, Start running time: 2022-04-19 00:09:51.942214\n",
      "classification_report: \n",
      "                   precision    recall  f1-score   support\n",
      "\n",
      "         为亲友非法牟利罪       0.00      0.00      0.00         2\n",
      "         传染病防治失职罪       0.00      0.00      0.00         1\n",
      "          侵犯商业秘密罪       0.35      0.78      0.48         9\n",
      "          侵犯通信自由罪       0.00      0.00      0.00         1\n",
      "           信用证诈骗罪       0.00      0.00      0.00         3\n",
      "            倒卖文物罪       0.65      0.87      0.74        15\n",
      "            假冒专利罪       0.00      0.00      0.00         1\n",
      "      出具证明文件重大失实罪       0.00      0.00      0.00         5\n",
      "         出售出入境证件罪       0.00      0.00      0.00         5\n",
      "            刑讯逼供罪       0.00      0.00      0.00         4\n",
      "       利用未公开信息交易罪       1.00      0.67      0.80         3\n",
      "         劫夺被押解人员罪       0.00      0.00      0.00         3\n",
      "            医疗事故罪       1.00      0.83      0.91         6\n",
      "          危害公共安全罪       0.00      0.00      0.00         3\n",
      "            变造货币罪       0.00      0.00      0.00         2\n",
      "       吸收客户资金不入账罪       0.00      0.00      0.00         3\n",
      "      失职致使在押人员脱逃罪       0.69      1.00      0.82         9\n",
      "            妨害清算罪       0.00      0.00      0.00         1\n",
      "       对有影响力的人行贿罪       0.00      0.00      0.00         1\n",
      "        工程重大安全事故罪       0.67      0.86      0.75         7\n",
      "      帮助信息网络犯罪活动罪       0.00      0.00      0.00         2\n",
      "          引诱幼女卖淫罪       0.00      0.00      0.00         2\n",
      "      引诱未成年人聚众淫乱罪       0.00      0.00      0.00         1\n",
      "        强令违章冒险作业罪       0.00      0.00      0.00         2\n",
      "          强迫他人吸毒罪       0.31      1.00      0.47        14\n",
      "          打击报复证人罪       0.30      0.73      0.42        11\n",
      "      扰乱国家机关工作秩序罪       1.00      0.50      0.67         4\n",
      "          扰乱法庭秩序罪       0.75      0.90      0.82        10\n",
      "        投放虚假危险物质罪       1.00      0.17      0.29         6\n",
      "        提供虚假证明文件罪       0.50      0.78      0.61         9\n",
      "        擅自设立金融机构罪       0.00      0.00      0.00         2\n",
      "    放纵制售伪劣商品犯罪行为罪       0.00      0.00      0.00         2\n",
      "            放纵走私罪       0.00      0.00      0.00         3\n",
      "          故意损毁文物罪       0.80      0.67      0.73         6\n",
      "        故意泄露国家秘密罪       0.80      0.89      0.84         9\n",
      "      教育设施重大安全事故罪       0.00      0.00      0.00         4\n",
      "            暴力取证罪       0.00      0.00      0.00         1\n",
      "          有价证券诈骗罪       0.00      0.00      0.00         3\n",
      "              洗钱罪       1.00      0.43      0.60         7\n",
      "          消防责任事故罪       1.00      1.00      1.00         6\n",
      "          煽动分裂国家罪       0.00      0.00      0.00         2\n",
      "      煽动暴力抗拒法律实施罪       0.00      0.00      0.00         1\n",
      "        煽动颠覆国家政权罪       0.00      0.00      0.00         1\n",
      "          环境监管失职罪       1.00      1.00      1.00         7\n",
      "          破坏交通工具罪       0.50      0.91      0.65        11\n",
      "            破坏军婚罪       1.00      0.25      0.40         4\n",
      "            破坏选举罪       0.00      0.00      0.00         2\n",
      "          私放在押人员罪       0.00      0.00      0.00         3\n",
      "        组织出卖人体器官罪       1.00      0.67      0.80         3\n",
      "组织未成年人进行违反治安管理活动罪       0.00      0.00      0.00         5\n",
      "            组织越狱罪       0.00      0.00      0.00         1\n",
      "     聚众扰乱军事管理区秩序罪       0.00      0.00      0.00         1\n",
      "            聚众淫乱罪       1.00      0.50      0.67         4\n",
      "              虐待罪       0.39      1.00      0.57        13\n",
      "          虐待被监管人罪       0.71      1.00      0.83        10\n",
      "            虚假广告罪       0.00      0.00      0.00         3\n",
      "            虚假诉讼罪       0.78      0.78      0.78         9\n",
      "          走私制毒物品罪       0.00      0.00      0.00         3\n",
      "          走私淫秽物品罪       0.00      0.00      0.00         2\n",
      "          走私贵重金属罪       1.00      1.00      1.00         4\n",
      "            过失决水罪       0.00      0.00      0.00         1\n",
      "        过失损坏交通设施罪       0.00      0.00      0.00         1\n",
      "      过失损坏易燃易爆设备罪       0.00      0.00      0.00         2\n",
      "        过失损坏电力设备罪       1.00      0.50      0.67         6\n",
      "          过失损毁文物罪       0.00      0.00      0.00         3\n",
      "            过失爆炸罪       0.00      0.00      0.00         4\n",
      "     违法发放林木采伐许可证罪       1.00      1.00      1.00         6\n",
      "        违规出具金融票证罪       0.00      0.00      0.00         3\n",
      "          逃避追缴欠税罪       0.00      0.00      0.00         3\n",
      "          金融凭证诈骗罪       0.24      0.73      0.36        11\n",
      "         销售侵权复制品罪       1.00      0.67      0.80         6\n",
      "          阻碍军事行动罪       0.00      0.00      0.00         1\n",
      "        阻碍军人执行职务罪       0.00      0.00      0.00         2\n",
      "   非法低价出让国有土地使用权罪       0.00      0.00      0.00         2\n",
      "     非法侵入计算机信息系统罪       1.00      0.25      0.40         4\n",
      "     非法出售增值税专用发票罪       0.86      1.00      0.92         6\n",
      "        非法利用信息网络罪       0.00      0.00      0.00         2\n",
      "     非法处置进口的固体废物罪       0.00      0.00      0.00         2\n",
      "            非法搜查罪       0.00      0.00      0.00         2\n",
      "        非法经营同类营业罪       0.00      0.00      0.00         2\n",
      "          颠覆国家政权罪       0.00      0.00      0.00         1\n",
      "          食品监管渎职罪       0.75      1.00      0.86        15\n",
      "          骗取出口退税罪       0.86      1.00      0.92        12\n",
      "          骗取出境证件罪       0.78      0.88      0.82         8\n",
      "            骗购外汇罪       0.00      0.00      0.00         1\n",
      "\n",
      "         accuracy                           0.58       383\n",
      "        macro avg       0.31      0.31      0.29       383\n",
      "     weighted avg       0.50      0.58      0.50       383\n",
      "\n",
      "\n"
     ]
    },
    {
     "name": "stderr",
     "output_type": "stream",
     "text": [
      "C:\\Users\\bigdata\\AppData\\Roaming\\Python\\Python37\\site-packages\\sklearn\\linear_model\\_sag.py:354: ConvergenceWarning: The max_iter was reached which means the coef_ did not converge\n",
      "  ConvergenceWarning,\n",
      "C:\\Users\\bigdata\\AppData\\Roaming\\Python\\Python37\\site-packages\\sklearn\\metrics\\_classification.py:1318: UndefinedMetricWarning: Precision and F-score are ill-defined and being set to 0.0 in labels with no predicted samples. Use `zero_division` parameter to control this behavior.\n",
      "  _warn_prf(average, modifier, msg_start, len(result))\n",
      "C:\\Users\\bigdata\\AppData\\Roaming\\Python\\Python37\\site-packages\\sklearn\\metrics\\_classification.py:1318: UndefinedMetricWarning: Precision and F-score are ill-defined and being set to 0.0 in labels with no predicted samples. Use `zero_division` parameter to control this behavior.\n",
      "  _warn_prf(average, modifier, msg_start, len(result))\n",
      "C:\\Users\\bigdata\\AppData\\Roaming\\Python\\Python37\\site-packages\\sklearn\\metrics\\_classification.py:1318: UndefinedMetricWarning: Precision and F-score are ill-defined and being set to 0.0 in labels with no predicted samples. Use `zero_division` parameter to control this behavior.\n",
      "  _warn_prf(average, modifier, msg_start, len(result))\n",
      "C:\\Users\\bigdata\\AppData\\Roaming\\Python\\Python37\\site-packages\\sklearn\\metrics\\_classification.py:1318: UndefinedMetricWarning: Precision and F-score are ill-defined and being set to 0.0 in labels with no predicted samples. Use `zero_division` parameter to control this behavior.\n",
      "  _warn_prf(average, modifier, msg_start, len(result))\n",
      "C:\\Users\\bigdata\\AppData\\Roaming\\Python\\Python37\\site-packages\\sklearn\\metrics\\_classification.py:1318: UndefinedMetricWarning: Precision and F-score are ill-defined and being set to 0.0 in labels with no predicted samples. Use `zero_division` parameter to control this behavior.\n",
      "  _warn_prf(average, modifier, msg_start, len(result))\n",
      "C:\\Users\\bigdata\\AppData\\Roaming\\Python\\Python37\\site-packages\\sklearn\\metrics\\_classification.py:1318: UndefinedMetricWarning: Precision and F-score are ill-defined and being set to 0.0 in labels with no predicted samples. Use `zero_division` parameter to control this behavior.\n",
      "  _warn_prf(average, modifier, msg_start, len(result))\n"
     ]
    }
   ],
   "source": [
    "LR_model_2To50 = LogisticRegression(\n",
    "#     penalty=\"l1\"\n",
    "#     , C = 0.5\n",
    "    multi_class=\"multinomial\"\n",
    "    # multi_class=multi_class\n",
    "    , solver= 'saga'\n",
    "    , max_iter=20\n",
    "    , random_state=80\n",
    "     )\n",
    "LR_model_2To50 = LR_model_2To50.fit(tfidfTrain, labelTrain_list)\n",
    "\n",
    "ytrain_pred = LR_model_2To50.predict(tfidfTrain)\n",
    "print(\"对训练集进行模型评估, Start running time: %s\" % datetime.datetime.now())\n",
    "print(\"classification_report: \")\n",
    "print(classification_report(labelTrain_list, ytrain_pred))\n",
    "# print(\"accuracy_score :\", metrics.accuracy_score(labelTrain_list, ytrain_pred))\n",
    "print(\"\")\n",
    "\n",
    "\n",
    "ytest_pred = LR_model_2To50.predict(tfidfTest)\n",
    "print(\"对测试集集进行模型评估, Start running time: %s\" % datetime.datetime.now())\n",
    "print(\"classification_report: \")\n",
    "print(classification_report(labelTest_list, ytest_pred))\n",
    "# print(\"accuracy_score :\" , metrics.accuracy_score(labelTest_list, ytest_pred))\n",
    "print(\"\")"
   ]
  },
  {
   "cell_type": "code",
   "execution_count": null,
   "metadata": {},
   "outputs": [],
   "source": []
  },
  {
   "cell_type": "code",
   "execution_count": null,
   "metadata": {},
   "outputs": [],
   "source": []
  },
  {
   "cell_type": "code",
   "execution_count": null,
   "metadata": {},
   "outputs": [],
   "source": []
  },
  {
   "cell_type": "code",
   "execution_count": null,
   "metadata": {},
   "outputs": [],
   "source": []
  },
  {
   "cell_type": "code",
   "execution_count": null,
   "metadata": {},
   "outputs": [],
   "source": []
  },
  {
   "cell_type": "code",
   "execution_count": null,
   "metadata": {},
   "outputs": [],
   "source": []
  },
  {
   "cell_type": "code",
   "execution_count": null,
   "metadata": {},
   "outputs": [],
   "source": []
  },
  {
   "cell_type": "code",
   "execution_count": null,
   "metadata": {},
   "outputs": [],
   "source": []
  },
  {
   "cell_type": "code",
   "execution_count": null,
   "metadata": {},
   "outputs": [],
   "source": []
  },
  {
   "cell_type": "code",
   "execution_count": null,
   "metadata": {},
   "outputs": [],
   "source": []
  }
 ],
 "metadata": {
  "kernelspec": {
   "display_name": "Python 3",
   "language": "python",
   "name": "python3"
  },
  "language_info": {
   "codemirror_mode": {
    "name": "ipython",
    "version": 3
   },
   "file_extension": ".py",
   "mimetype": "text/x-python",
   "name": "python",
   "nbconvert_exporter": "python",
   "pygments_lexer": "ipython3",
   "version": "3.7.0"
  }
 },
 "nbformat": 4,
 "nbformat_minor": 2
}
